{
  "nbformat": 4,
  "nbformat_minor": 0,
  "metadata": {
    "kernelspec": {
      "display_name": "Python 3",
      "language": "python",
      "name": "python3"
    },
    "language_info": {
      "codemirror_mode": {
        "name": "ipython",
        "version": 3
      },
      "file_extension": ".py",
      "mimetype": "text/x-python",
      "name": "python",
      "nbconvert_exporter": "python",
      "pygments_lexer": "ipython3",
      "version": "3.6.6"
    },
    "colab": {
      "name": "Vaideswar Reddy-Team 5 - Capstone Project-2.ipynb",
      "provenance": [],
      "collapsed_sections": [],
      "include_colab_link": true
    }
  },
  "cells": [
    {
      "cell_type": "markdown",
      "metadata": {
        "id": "view-in-github",
        "colab_type": "text"
      },
      "source": [
        "<a href=\"https://colab.research.google.com/github/VaideswarReddy/Demanad-prediction-for-public-transport/blob/main/Vaideswar_Reddy_Team_5_Capstone_Project_2.ipynb\" target=\"_parent\"><img src=\"https://colab.research.google.com/assets/colab-badge.svg\" alt=\"Open In Colab\"/></a>"
      ]
    },
    {
      "cell_type": "markdown",
      "metadata": {
        "id": "tOGC-qoyhJeX"
      },
      "source": [
        "# <b><u> Project Title : Traffic Jam: Predicting People's Movement into Nairobi </u></b>"
      ]
    },
    {
      "cell_type": "markdown",
      "metadata": {
        "id": "Y06xIdG26kRF"
      },
      "source": [
        "## <b> Problem Description </b>\n",
        "\n",
        "### This challenge asks you to build a model that predicts the number of seats that Mobiticket can expect to sell for each ride, i.e. for a specific route on a specific date and time. There are 14 routes in this dataset. All of the routes end in Nairobi and originate in towns to the North-West of Nairobi towards Lake Victoria.\n",
        "\n",
        "\n",
        "### The towns from which these routes originate are:\n",
        "\n",
        "* Awendo\n",
        "* Homa Bay\n",
        "* Kehancha\n",
        "* Kendu Bay\n",
        "* Keroka\n",
        "* Keumbu\n",
        "* Kijauri\n",
        "* Kisii\n",
        "* Mbita\n",
        "* Migori\n",
        "* Ndhiwa\n",
        "* Nyachenge\n",
        "* Oyugis\n",
        "* Rodi\n",
        "* Rongo\n",
        "* Sirare\n",
        "* Sori\n",
        "\n",
        "### The routes from these 14 origins to the first stop in the outskirts of Nairobi takes approximately 8 to 9 hours from time of departure. From the first stop in the outskirts of Nairobi into the main bus terminal, where most passengers get off, in Central Business District, takes another 2 to 3 hours depending on traffic.\n",
        "\n",
        "### The three stops that all these routes make in Nairobi (in order) are:\n",
        "\n",
        "1. Kawangware: the first stop in the outskirts of Nairobi\n",
        "2. Westlands\n",
        "3. Afya Centre: the main bus terminal where most passengers disembark\n",
        "\n",
        "### All of these points are mapped [here](https://www.google.com/maps/d/viewer?mid=1Ef2pFdP8keVHHid8bwju2raoRvjOGagN&ll=-0.8281897101491997%2C35.51706279999996&z=8).\n",
        "\n",
        "### Passengers of these bus (or shuttle) rides are affected by Nairobi traffic not only during their ride into the city, but from there they must continue their journey to their final destination in Nairobi wherever that may be. Traffic can act as a deterrent for those who have the option to avoid buses that arrive in Nairobi during peak traffic hours. On the other hand, traffic may be an indication for people’s movement patterns, reflecting business hours, cultural events, political events, and holidays."
      ]
    },
    {
      "cell_type": "markdown",
      "metadata": {
        "id": "AlLxAtlziMbP"
      },
      "source": [
        "## <b> Data Description </b>\r\n",
        "\r\n",
        "### <b>Nairobi Transport Data.csv (zipped)</b> is the dataset of tickets purchased from Mobiticket for the 14 routes from “up country” into Nairobi between 17 October 2017 and 20 April 2018. This dataset includes the variables: ride_id, seat_number, payment_method, payment_receipt, travel_date, travel_time, travel_from, travel_to, car_type, max_capacity.\r\n",
        "\r\n",
        "\r\n",
        "### Uber Movement traffic data can be accessed [here](https://movement.uber.com). Data is available for Nairobi through June 2018. Uber Movement provided historic hourly travel time between any two points in Nairobi. Any tables that are extracted from the Uber Movement platform can be used in your model.\r\n",
        "\r\n",
        "### Variables description:\r\n",
        "\r\n",
        "* #### ride_id: unique ID of a vehicle on a specific route on a specific day and time.\r\n",
        "* #### seat_number: seat assigned to ticket\r\n",
        "* #### payment_method: method used by customer to purchase ticket from Mobiticket (cash or Mpesa)\r\n",
        "* #### payment_receipt: unique id number for ticket purchased from Mobiticket\r\n",
        "* #### travel_date: date of ride departure. (MM/DD/YYYY)\r\n",
        "* #### travel_time: scheduled departure time of ride. Rides generally depart on time. (hh:mm)\r\n",
        "* #### travel_from: town from which ride originated\r\n",
        "* #### travel_to: destination of ride. All rides are to Nairobi.\r\n",
        "* #### car_type: vehicle type (shuttle or bus)\r\n",
        "* #### max_capacity: number of seats on the vehicle"
      ]
    },
    {
      "cell_type": "code",
      "metadata": {
        "id": "jsKCEvmkJs3m"
      },
      "source": [
        "import pandas as pd\n",
        "import numpy as np\n",
        "import seaborn as sns\n",
        "import matplotlib.pyplot as plt\n"
      ],
      "execution_count": null,
      "outputs": []
    },
    {
      "cell_type": "code",
      "metadata": {
        "colab": {
          "base_uri": "https://localhost:8080/"
        },
        "id": "QmwE-y3nJdVP",
        "outputId": "64a419ef-9e22-4dbd-92e8-d2821d76caa6"
      },
      "source": [
        "from google.colab import drive\n",
        "drive.mount('/content/drive')"
      ],
      "execution_count": null,
      "outputs": [
        {
          "output_type": "stream",
          "text": [
            "Drive already mounted at /content/drive; to attempt to forcibly remount, call drive.mount(\"/content/drive\", force_remount=True).\n"
          ],
          "name": "stdout"
        }
      ]
    },
    {
      "cell_type": "code",
      "metadata": {
        "id": "dByMsuzT8Tnw"
      },
      "source": [
        "df = pd.read_csv('/content/drive/MyDrive/AlmaBetter/Cohort Aravali/Module 4/Week 1/Data _ Resources/train_revised.csv')"
      ],
      "execution_count": null,
      "outputs": []
    },
    {
      "cell_type": "code",
      "metadata": {
        "colab": {
          "base_uri": "https://localhost:8080/",
          "height": 204
        },
        "id": "o4lKT6Z_J3bn",
        "outputId": "95c9cd81-182f-458e-f892-783225b70b5a"
      },
      "source": [
        "df.head()"
      ],
      "execution_count": null,
      "outputs": [
        {
          "output_type": "execute_result",
          "data": {
            "text/html": [
              "<div>\n",
              "<style scoped>\n",
              "    .dataframe tbody tr th:only-of-type {\n",
              "        vertical-align: middle;\n",
              "    }\n",
              "\n",
              "    .dataframe tbody tr th {\n",
              "        vertical-align: top;\n",
              "    }\n",
              "\n",
              "    .dataframe thead th {\n",
              "        text-align: right;\n",
              "    }\n",
              "</style>\n",
              "<table border=\"1\" class=\"dataframe\">\n",
              "  <thead>\n",
              "    <tr style=\"text-align: right;\">\n",
              "      <th></th>\n",
              "      <th>ride_id</th>\n",
              "      <th>seat_number</th>\n",
              "      <th>payment_method</th>\n",
              "      <th>payment_receipt</th>\n",
              "      <th>travel_date</th>\n",
              "      <th>travel_time</th>\n",
              "      <th>travel_from</th>\n",
              "      <th>travel_to</th>\n",
              "      <th>car_type</th>\n",
              "      <th>max_capacity</th>\n",
              "    </tr>\n",
              "  </thead>\n",
              "  <tbody>\n",
              "    <tr>\n",
              "      <th>0</th>\n",
              "      <td>1442</td>\n",
              "      <td>15A</td>\n",
              "      <td>Mpesa</td>\n",
              "      <td>UZUEHCBUSO</td>\n",
              "      <td>17-10-17</td>\n",
              "      <td>7:15</td>\n",
              "      <td>Migori</td>\n",
              "      <td>Nairobi</td>\n",
              "      <td>Bus</td>\n",
              "      <td>49</td>\n",
              "    </tr>\n",
              "    <tr>\n",
              "      <th>1</th>\n",
              "      <td>5437</td>\n",
              "      <td>14A</td>\n",
              "      <td>Mpesa</td>\n",
              "      <td>TIHLBUSGTE</td>\n",
              "      <td>19-11-17</td>\n",
              "      <td>7:12</td>\n",
              "      <td>Migori</td>\n",
              "      <td>Nairobi</td>\n",
              "      <td>Bus</td>\n",
              "      <td>49</td>\n",
              "    </tr>\n",
              "    <tr>\n",
              "      <th>2</th>\n",
              "      <td>5710</td>\n",
              "      <td>8B</td>\n",
              "      <td>Mpesa</td>\n",
              "      <td>EQX8Q5G19O</td>\n",
              "      <td>26-11-17</td>\n",
              "      <td>7:05</td>\n",
              "      <td>Keroka</td>\n",
              "      <td>Nairobi</td>\n",
              "      <td>Bus</td>\n",
              "      <td>49</td>\n",
              "    </tr>\n",
              "    <tr>\n",
              "      <th>3</th>\n",
              "      <td>5777</td>\n",
              "      <td>19A</td>\n",
              "      <td>Mpesa</td>\n",
              "      <td>SGP18CL0ME</td>\n",
              "      <td>27-11-17</td>\n",
              "      <td>7:10</td>\n",
              "      <td>Homa Bay</td>\n",
              "      <td>Nairobi</td>\n",
              "      <td>Bus</td>\n",
              "      <td>49</td>\n",
              "    </tr>\n",
              "    <tr>\n",
              "      <th>4</th>\n",
              "      <td>5778</td>\n",
              "      <td>11A</td>\n",
              "      <td>Mpesa</td>\n",
              "      <td>BM97HFRGL9</td>\n",
              "      <td>27-11-17</td>\n",
              "      <td>7:12</td>\n",
              "      <td>Migori</td>\n",
              "      <td>Nairobi</td>\n",
              "      <td>Bus</td>\n",
              "      <td>49</td>\n",
              "    </tr>\n",
              "  </tbody>\n",
              "</table>\n",
              "</div>"
            ],
            "text/plain": [
              "   ride_id seat_number payment_method  ... travel_to car_type max_capacity\n",
              "0     1442         15A          Mpesa  ...   Nairobi      Bus           49\n",
              "1     5437         14A          Mpesa  ...   Nairobi      Bus           49\n",
              "2     5710          8B          Mpesa  ...   Nairobi      Bus           49\n",
              "3     5777         19A          Mpesa  ...   Nairobi      Bus           49\n",
              "4     5778         11A          Mpesa  ...   Nairobi      Bus           49\n",
              "\n",
              "[5 rows x 10 columns]"
            ]
          },
          "metadata": {
            "tags": []
          },
          "execution_count": 6
        }
      ]
    },
    {
      "cell_type": "code",
      "metadata": {
        "colab": {
          "base_uri": "https://localhost:8080/"
        },
        "id": "CGlSk4ZQ80PQ",
        "outputId": "ddccf56b-5786-44da-b77d-d0a14592a830"
      },
      "source": [
        "df.columns"
      ],
      "execution_count": null,
      "outputs": [
        {
          "output_type": "execute_result",
          "data": {
            "text/plain": [
              "Index(['ride_id', 'seat_number', 'payment_method', 'payment_receipt',\n",
              "       'travel_date', 'travel_time', 'travel_from', 'travel_to', 'car_type',\n",
              "       'max_capacity'],\n",
              "      dtype='object')"
            ]
          },
          "metadata": {
            "tags": []
          },
          "execution_count": 7
        }
      ]
    },
    {
      "cell_type": "code",
      "metadata": {
        "colab": {
          "base_uri": "https://localhost:8080/"
        },
        "id": "GTt3bUEBkUN5",
        "outputId": "348e8be7-0d6b-4839-b79f-753f2f0df455"
      },
      "source": [
        "df.dtypes"
      ],
      "execution_count": null,
      "outputs": [
        {
          "output_type": "execute_result",
          "data": {
            "text/plain": [
              "ride_id             int64\n",
              "seat_number        object\n",
              "payment_method     object\n",
              "payment_receipt    object\n",
              "travel_date        object\n",
              "travel_time        object\n",
              "travel_from        object\n",
              "travel_to          object\n",
              "car_type           object\n",
              "max_capacity        int64\n",
              "dtype: object"
            ]
          },
          "metadata": {
            "tags": []
          },
          "execution_count": 8
        }
      ]
    },
    {
      "cell_type": "code",
      "metadata": {
        "id": "_4INyN6mBHOS"
      },
      "source": [
        "# df['travel_time'] = pd.to_datetime(df['travel_time'], format='%H:%M')"
      ],
      "execution_count": null,
      "outputs": []
    },
    {
      "cell_type": "code",
      "metadata": {
        "colab": {
          "base_uri": "https://localhost:8080/",
          "height": 204
        },
        "id": "fL4cAASrBwDT",
        "outputId": "499989d9-610c-48df-a997-1716fa662d06"
      },
      "source": [
        "df.head()"
      ],
      "execution_count": null,
      "outputs": [
        {
          "output_type": "execute_result",
          "data": {
            "text/html": [
              "<div>\n",
              "<style scoped>\n",
              "    .dataframe tbody tr th:only-of-type {\n",
              "        vertical-align: middle;\n",
              "    }\n",
              "\n",
              "    .dataframe tbody tr th {\n",
              "        vertical-align: top;\n",
              "    }\n",
              "\n",
              "    .dataframe thead th {\n",
              "        text-align: right;\n",
              "    }\n",
              "</style>\n",
              "<table border=\"1\" class=\"dataframe\">\n",
              "  <thead>\n",
              "    <tr style=\"text-align: right;\">\n",
              "      <th></th>\n",
              "      <th>ride_id</th>\n",
              "      <th>seat_number</th>\n",
              "      <th>payment_method</th>\n",
              "      <th>payment_receipt</th>\n",
              "      <th>travel_date</th>\n",
              "      <th>travel_time</th>\n",
              "      <th>travel_from</th>\n",
              "      <th>travel_to</th>\n",
              "      <th>car_type</th>\n",
              "      <th>max_capacity</th>\n",
              "    </tr>\n",
              "  </thead>\n",
              "  <tbody>\n",
              "    <tr>\n",
              "      <th>0</th>\n",
              "      <td>1442</td>\n",
              "      <td>15A</td>\n",
              "      <td>Mpesa</td>\n",
              "      <td>UZUEHCBUSO</td>\n",
              "      <td>17-10-17</td>\n",
              "      <td>7:15</td>\n",
              "      <td>Migori</td>\n",
              "      <td>Nairobi</td>\n",
              "      <td>Bus</td>\n",
              "      <td>49</td>\n",
              "    </tr>\n",
              "    <tr>\n",
              "      <th>1</th>\n",
              "      <td>5437</td>\n",
              "      <td>14A</td>\n",
              "      <td>Mpesa</td>\n",
              "      <td>TIHLBUSGTE</td>\n",
              "      <td>19-11-17</td>\n",
              "      <td>7:12</td>\n",
              "      <td>Migori</td>\n",
              "      <td>Nairobi</td>\n",
              "      <td>Bus</td>\n",
              "      <td>49</td>\n",
              "    </tr>\n",
              "    <tr>\n",
              "      <th>2</th>\n",
              "      <td>5710</td>\n",
              "      <td>8B</td>\n",
              "      <td>Mpesa</td>\n",
              "      <td>EQX8Q5G19O</td>\n",
              "      <td>26-11-17</td>\n",
              "      <td>7:05</td>\n",
              "      <td>Keroka</td>\n",
              "      <td>Nairobi</td>\n",
              "      <td>Bus</td>\n",
              "      <td>49</td>\n",
              "    </tr>\n",
              "    <tr>\n",
              "      <th>3</th>\n",
              "      <td>5777</td>\n",
              "      <td>19A</td>\n",
              "      <td>Mpesa</td>\n",
              "      <td>SGP18CL0ME</td>\n",
              "      <td>27-11-17</td>\n",
              "      <td>7:10</td>\n",
              "      <td>Homa Bay</td>\n",
              "      <td>Nairobi</td>\n",
              "      <td>Bus</td>\n",
              "      <td>49</td>\n",
              "    </tr>\n",
              "    <tr>\n",
              "      <th>4</th>\n",
              "      <td>5778</td>\n",
              "      <td>11A</td>\n",
              "      <td>Mpesa</td>\n",
              "      <td>BM97HFRGL9</td>\n",
              "      <td>27-11-17</td>\n",
              "      <td>7:12</td>\n",
              "      <td>Migori</td>\n",
              "      <td>Nairobi</td>\n",
              "      <td>Bus</td>\n",
              "      <td>49</td>\n",
              "    </tr>\n",
              "  </tbody>\n",
              "</table>\n",
              "</div>"
            ],
            "text/plain": [
              "   ride_id seat_number payment_method  ... travel_to car_type max_capacity\n",
              "0     1442         15A          Mpesa  ...   Nairobi      Bus           49\n",
              "1     5437         14A          Mpesa  ...   Nairobi      Bus           49\n",
              "2     5710          8B          Mpesa  ...   Nairobi      Bus           49\n",
              "3     5777         19A          Mpesa  ...   Nairobi      Bus           49\n",
              "4     5778         11A          Mpesa  ...   Nairobi      Bus           49\n",
              "\n",
              "[5 rows x 10 columns]"
            ]
          },
          "metadata": {
            "tags": []
          },
          "execution_count": 10
        }
      ]
    },
    {
      "cell_type": "code",
      "metadata": {
        "colab": {
          "base_uri": "https://localhost:8080/",
          "height": 297
        },
        "id": "l4ggHf6p86PB",
        "outputId": "426addd7-7370-4723-a0f5-7cbc5fcc889a"
      },
      "source": [
        "df.describe()"
      ],
      "execution_count": null,
      "outputs": [
        {
          "output_type": "execute_result",
          "data": {
            "text/html": [
              "<div>\n",
              "<style scoped>\n",
              "    .dataframe tbody tr th:only-of-type {\n",
              "        vertical-align: middle;\n",
              "    }\n",
              "\n",
              "    .dataframe tbody tr th {\n",
              "        vertical-align: top;\n",
              "    }\n",
              "\n",
              "    .dataframe thead th {\n",
              "        text-align: right;\n",
              "    }\n",
              "</style>\n",
              "<table border=\"1\" class=\"dataframe\">\n",
              "  <thead>\n",
              "    <tr style=\"text-align: right;\">\n",
              "      <th></th>\n",
              "      <th>ride_id</th>\n",
              "      <th>max_capacity</th>\n",
              "    </tr>\n",
              "  </thead>\n",
              "  <tbody>\n",
              "    <tr>\n",
              "      <th>count</th>\n",
              "      <td>51645.000000</td>\n",
              "      <td>51645.000000</td>\n",
              "    </tr>\n",
              "    <tr>\n",
              "      <th>mean</th>\n",
              "      <td>10188.645793</td>\n",
              "      <td>34.534321</td>\n",
              "    </tr>\n",
              "    <tr>\n",
              "      <th>std</th>\n",
              "      <td>2211.295708</td>\n",
              "      <td>18.451193</td>\n",
              "    </tr>\n",
              "    <tr>\n",
              "      <th>min</th>\n",
              "      <td>1442.000000</td>\n",
              "      <td>11.000000</td>\n",
              "    </tr>\n",
              "    <tr>\n",
              "      <th>25%</th>\n",
              "      <td>8287.000000</td>\n",
              "      <td>11.000000</td>\n",
              "    </tr>\n",
              "    <tr>\n",
              "      <th>50%</th>\n",
              "      <td>10353.000000</td>\n",
              "      <td>49.000000</td>\n",
              "    </tr>\n",
              "    <tr>\n",
              "      <th>75%</th>\n",
              "      <td>12029.000000</td>\n",
              "      <td>49.000000</td>\n",
              "    </tr>\n",
              "    <tr>\n",
              "      <th>max</th>\n",
              "      <td>20117.000000</td>\n",
              "      <td>49.000000</td>\n",
              "    </tr>\n",
              "  </tbody>\n",
              "</table>\n",
              "</div>"
            ],
            "text/plain": [
              "            ride_id  max_capacity\n",
              "count  51645.000000  51645.000000\n",
              "mean   10188.645793     34.534321\n",
              "std     2211.295708     18.451193\n",
              "min     1442.000000     11.000000\n",
              "25%     8287.000000     11.000000\n",
              "50%    10353.000000     49.000000\n",
              "75%    12029.000000     49.000000\n",
              "max    20117.000000     49.000000"
            ]
          },
          "metadata": {
            "tags": []
          },
          "execution_count": 11
        }
      ]
    },
    {
      "cell_type": "code",
      "metadata": {
        "colab": {
          "base_uri": "https://localhost:8080/"
        },
        "id": "i2sr6cET8-Ix",
        "outputId": "efcf4db3-5899-4b7e-b015-4a8492a77dcd"
      },
      "source": [
        "df.info()"
      ],
      "execution_count": null,
      "outputs": [
        {
          "output_type": "stream",
          "text": [
            "<class 'pandas.core.frame.DataFrame'>\n",
            "RangeIndex: 51645 entries, 0 to 51644\n",
            "Data columns (total 10 columns):\n",
            " #   Column           Non-Null Count  Dtype \n",
            "---  ------           --------------  ----- \n",
            " 0   ride_id          51645 non-null  int64 \n",
            " 1   seat_number      51645 non-null  object\n",
            " 2   payment_method   51645 non-null  object\n",
            " 3   payment_receipt  51645 non-null  object\n",
            " 4   travel_date      51645 non-null  object\n",
            " 5   travel_time      51645 non-null  object\n",
            " 6   travel_from      51645 non-null  object\n",
            " 7   travel_to        51645 non-null  object\n",
            " 8   car_type         51645 non-null  object\n",
            " 9   max_capacity     51645 non-null  int64 \n",
            "dtypes: int64(2), object(8)\n",
            "memory usage: 3.9+ MB\n"
          ],
          "name": "stdout"
        }
      ]
    },
    {
      "cell_type": "code",
      "metadata": {
        "colab": {
          "base_uri": "https://localhost:8080/"
        },
        "id": "md_kRZV49CG4",
        "outputId": "295690fe-92dc-4208-dcb4-f3adf49f599a"
      },
      "source": [
        "df.shape"
      ],
      "execution_count": null,
      "outputs": [
        {
          "output_type": "execute_result",
          "data": {
            "text/plain": [
              "(51645, 10)"
            ]
          },
          "metadata": {
            "tags": []
          },
          "execution_count": 13
        }
      ]
    },
    {
      "cell_type": "code",
      "metadata": {
        "colab": {
          "base_uri": "https://localhost:8080/"
        },
        "id": "WltViL9LAYaH",
        "outputId": "63ecc23b-dafc-4fde-cd36-c3804655f934"
      },
      "source": [
        "df.payment_method.value_counts()"
      ],
      "execution_count": null,
      "outputs": [
        {
          "output_type": "execute_result",
          "data": {
            "text/plain": [
              "Mpesa    51532\n",
              "Cash       113\n",
              "Name: payment_method, dtype: int64"
            ]
          },
          "metadata": {
            "tags": []
          },
          "execution_count": 14
        }
      ]
    },
    {
      "cell_type": "code",
      "metadata": {
        "colab": {
          "base_uri": "https://localhost:8080/"
        },
        "id": "i5u9x8pI9yGq",
        "outputId": "965dc935-836e-40ee-c27b-fc22fa14c496"
      },
      "source": [
        "df.ride_id.value_counts()"
      ],
      "execution_count": null,
      "outputs": [
        {
          "output_type": "execute_result",
          "data": {
            "text/plain": [
              "8454     50\n",
              "8090     49\n",
              "10834    49\n",
              "11382    49\n",
              "13211    49\n",
              "         ..\n",
              "5804      1\n",
              "9834      1\n",
              "9738      1\n",
              "11755     1\n",
              "6147      1\n",
              "Name: ride_id, Length: 6249, dtype: int64"
            ]
          },
          "metadata": {
            "tags": []
          },
          "execution_count": 15
        }
      ]
    },
    {
      "cell_type": "code",
      "metadata": {
        "colab": {
          "base_uri": "https://localhost:8080/"
        },
        "id": "BgMpD-yx9-25",
        "outputId": "25e11292-07e1-4b5c-dc4e-498c056769a1"
      },
      "source": [
        "df.seat_number.value_counts()"
      ],
      "execution_count": null,
      "outputs": [
        {
          "output_type": "execute_result",
          "data": {
            "text/plain": [
              "1      2065\n",
              "8      1818\n",
              "10     1789\n",
              "2      1784\n",
              "7      1782\n",
              "       ... \n",
              "25      511\n",
              "23B     508\n",
              "1A      273\n",
              "2A      173\n",
              "14        1\n",
              "Name: seat_number, Length: 61, dtype: int64"
            ]
          },
          "metadata": {
            "tags": []
          },
          "execution_count": 16
        }
      ]
    },
    {
      "cell_type": "code",
      "metadata": {
        "colab": {
          "base_uri": "https://localhost:8080/"
        },
        "id": "uVssJ-FgkAxN",
        "outputId": "44ad0060-ec69-4153-83a3-ceb5901f75f4"
      },
      "source": [
        "df.travel_time.value_counts()"
      ],
      "execution_count": null,
      "outputs": [
        {
          "output_type": "execute_result",
          "data": {
            "text/plain": [
              "7:09     3926\n",
              "7:04     3837\n",
              "7:12     3540\n",
              "19:07    3227\n",
              "7:08     2989\n",
              "         ... \n",
              "11:05      51\n",
              "11:06      48\n",
              "11:07      32\n",
              "11:08      18\n",
              "11:09       9\n",
              "Name: travel_time, Length: 78, dtype: int64"
            ]
          },
          "metadata": {
            "tags": []
          },
          "execution_count": 17
        }
      ]
    },
    {
      "cell_type": "code",
      "metadata": {
        "colab": {
          "base_uri": "https://localhost:8080/"
        },
        "id": "TpxFo9SeFCqi",
        "outputId": "0b87b171-b3c8-4645-cc66-6752493458ea"
      },
      "source": [
        "df.travel_from.value_counts()"
      ],
      "execution_count": null,
      "outputs": [
        {
          "output_type": "execute_result",
          "data": {
            "text/plain": [
              "Kisii        22607\n",
              "Migori        7027\n",
              "Homa Bay      6304\n",
              "Sirare        4449\n",
              "Rongo         3928\n",
              "Kehancha      1909\n",
              "Awendo        1788\n",
              "Kijauri       1031\n",
              "Keroka         988\n",
              "Nyachenge      512\n",
              "Rodi           405\n",
              "Mbita          378\n",
              "Ndhiwa         236\n",
              "Sori            55\n",
              "Keumbu          22\n",
              "Oyugis           5\n",
              "Kendu Bay        1\n",
              "Name: travel_from, dtype: int64"
            ]
          },
          "metadata": {
            "tags": []
          },
          "execution_count": 18
        }
      ]
    },
    {
      "cell_type": "code",
      "metadata": {
        "colab": {
          "base_uri": "https://localhost:8080/"
        },
        "id": "IA4CGauP-Iyv",
        "outputId": "6ffa5a03-0b46-4a10-cab3-5487a73c2d35"
      },
      "source": [
        "df.groupby(['car_type','seat_number'])['seat_number'].value_counts()"
      ],
      "execution_count": null,
      "outputs": [
        {
          "output_type": "execute_result",
          "data": {
            "text/plain": [
              "car_type  seat_number  seat_number\n",
              "Bus       10A          10A             681\n",
              "          10B          10B             590\n",
              "          11A          11A             774\n",
              "          11B          11B             544\n",
              "          12A          12A             716\n",
              "                                      ... \n",
              "shuttle   5            5              1762\n",
              "          6            6              1776\n",
              "          7            7              1781\n",
              "          8            8              1817\n",
              "          9            9              1759\n",
              "Name: seat_number, Length: 64, dtype: int64"
            ]
          },
          "metadata": {
            "tags": []
          },
          "execution_count": 19
        }
      ]
    },
    {
      "cell_type": "code",
      "metadata": {
        "colab": {
          "base_uri": "https://localhost:8080/"
        },
        "id": "oY5871HRJ7Xj",
        "outputId": "136b7cd0-dd58-4703-f2da-6c4ba26002ae"
      },
      "source": [
        "df.groupby(['car_type','travel_time'])['travel_time'].value_counts()"
      ],
      "execution_count": null,
      "outputs": [
        {
          "output_type": "execute_result",
          "data": {
            "text/plain": [
              "car_type  travel_time  travel_time\n",
              "Bus       19:03        19:03           334\n",
              "          19:04        19:04           402\n",
              "          19:05        19:05           207\n",
              "          19:06        19:06           199\n",
              "          19:07        19:07          3227\n",
              "                                      ... \n",
              "shuttle   9:10         9:10            646\n",
              "          9:20         9:20            660\n",
              "          9:30         9:30            630\n",
              "          9:40         9:40            589\n",
              "          9:50         9:50            520\n",
              "Name: travel_time, Length: 85, dtype: int64"
            ]
          },
          "metadata": {
            "tags": []
          },
          "execution_count": 20
        }
      ]
    },
    {
      "cell_type": "code",
      "metadata": {
        "colab": {
          "base_uri": "https://localhost:8080/"
        },
        "id": "2Eroa2Px5DlE",
        "outputId": "678f00a6-b79d-4d4c-939a-0c38a396d3f4"
      },
      "source": [
        "\n",
        "df.groupby(['car_type','ride_id'])['ride_id'].value_counts()"
      ],
      "execution_count": null,
      "outputs": [
        {
          "output_type": "execute_result",
          "data": {
            "text/plain": [
              "car_type  ride_id  ride_id\n",
              "Bus       1442     1442        1\n",
              "          5437     5437        1\n",
              "          5710     5710        1\n",
              "          5777     5777        5\n",
              "          5778     5778       31\n",
              "                              ..\n",
              "shuttle   13804    13804       1\n",
              "          13805    13805       1\n",
              "          20113    20113       9\n",
              "          20115    20115       5\n",
              "          20116    20116       1\n",
              "Name: ride_id, Length: 6249, dtype: int64"
            ]
          },
          "metadata": {
            "tags": []
          },
          "execution_count": 21
        }
      ]
    },
    {
      "cell_type": "code",
      "metadata": {
        "colab": {
          "base_uri": "https://localhost:8080/"
        },
        "id": "IxXZySBHKYgb",
        "outputId": "01addc5e-bca8-458b-a2be-68c424619f1a"
      },
      "source": [
        "df.groupby(['ride_id','travel_from'])['travel_from'].count()"
      ],
      "execution_count": null,
      "outputs": [
        {
          "output_type": "execute_result",
          "data": {
            "text/plain": [
              "ride_id  travel_from\n",
              "1442     Migori          1\n",
              "5437     Migori          1\n",
              "5710     Keroka          1\n",
              "5777     Homa Bay        5\n",
              "5778     Migori         31\n",
              "                        ..\n",
              "20113    Kisii           9\n",
              "20114    Kisii           4\n",
              "20115    Kisii           5\n",
              "20116    Kisii           1\n",
              "20117    Kisii           1\n",
              "Name: travel_from, Length: 6249, dtype: int64"
            ]
          },
          "metadata": {
            "tags": []
          },
          "execution_count": 22
        }
      ]
    },
    {
      "cell_type": "code",
      "metadata": {
        "colab": {
          "base_uri": "https://localhost:8080/"
        },
        "id": "M86oEqtUnSd9",
        "outputId": "d25fe805-d034-415a-ec7f-1abc18a88cbe"
      },
      "source": [
        "df.groupby(['travel_from','ride_id'])['ride_id'].value_counts()"
      ],
      "execution_count": null,
      "outputs": [
        {
          "output_type": "execute_result",
          "data": {
            "text/plain": [
              "travel_from  ride_id  ride_id\n",
              "Awendo       6654     6654       2\n",
              "             8380     8380       1\n",
              "             8381     8381       7\n",
              "             8397     8397       5\n",
              "             8409     8409       3\n",
              "                                ..\n",
              "Sori         13653    13653      1\n",
              "             13707    13707      4\n",
              "             13708    13708      3\n",
              "             13773    13773      2\n",
              "             13774    13774      1\n",
              "Name: ride_id, Length: 6249, dtype: int64"
            ]
          },
          "metadata": {
            "tags": []
          },
          "execution_count": 23
        }
      ]
    },
    {
      "cell_type": "code",
      "metadata": {
        "colab": {
          "base_uri": "https://localhost:8080/"
        },
        "id": "xM585-KiMwfq",
        "outputId": "80c1913a-45df-430a-89de-0fbfec21d027"
      },
      "source": [
        "df.groupby(['car_type','travel_date'])['car_type'].value_counts()"
      ],
      "execution_count": null,
      "outputs": [
        {
          "output_type": "execute_result",
          "data": {
            "text/plain": [
              "car_type  travel_date  car_type\n",
              "Bus       01-01-18     Bus          52\n",
              "          01-02-18     Bus         221\n",
              "          01-03-18     Bus         248\n",
              "          01-04-18     Bus         248\n",
              "          01-12-17     Bus          21\n",
              "                                  ... \n",
              "shuttle   30-11-17     shuttle      74\n",
              "          30-12-17     shuttle      10\n",
              "          31-01-18     shuttle     170\n",
              "          31-03-18     shuttle      18\n",
              "          31-12-17     shuttle       5\n",
              "Name: car_type, Length: 292, dtype: int64"
            ]
          },
          "metadata": {
            "tags": []
          },
          "execution_count": 24
        }
      ]
    },
    {
      "cell_type": "code",
      "metadata": {
        "colab": {
          "base_uri": "https://localhost:8080/"
        },
        "id": "64xr_sV5pDSw",
        "outputId": "70e14f1e-0bb2-4442-df23-ecfe2b20b2b2"
      },
      "source": [
        "df.travel_date.value_counts()"
      ],
      "execution_count": null,
      "outputs": [
        {
          "output_type": "execute_result",
          "data": {
            "text/plain": [
              "10-12-17    856\n",
              "14-12-17    797\n",
              "13-12-17    730\n",
              "07-12-17    723\n",
              "08-12-17    722\n",
              "           ... \n",
              "25-12-17      8\n",
              "17-10-17      1\n",
              "14-11-17      1\n",
              "26-11-17      1\n",
              "19-11-17      1\n",
              "Name: travel_date, Length: 149, dtype: int64"
            ]
          },
          "metadata": {
            "tags": []
          },
          "execution_count": 25
        }
      ]
    },
    {
      "cell_type": "code",
      "metadata": {
        "colab": {
          "base_uri": "https://localhost:8080/"
        },
        "id": "_0lhvD0cLqhf",
        "outputId": "4cc37766-1eea-4492-a70a-f879d99092d7"
      },
      "source": [
        "df.ride_id.value_counts()"
      ],
      "execution_count": null,
      "outputs": [
        {
          "output_type": "execute_result",
          "data": {
            "text/plain": [
              "8454     50\n",
              "8090     49\n",
              "10834    49\n",
              "11382    49\n",
              "13211    49\n",
              "         ..\n",
              "5804      1\n",
              "9834      1\n",
              "9738      1\n",
              "11755     1\n",
              "6147      1\n",
              "Name: ride_id, Length: 6249, dtype: int64"
            ]
          },
          "metadata": {
            "tags": []
          },
          "execution_count": 26
        }
      ]
    },
    {
      "cell_type": "code",
      "metadata": {
        "colab": {
          "base_uri": "https://localhost:8080/"
        },
        "id": "S9KK3b2s9dsy",
        "outputId": "28084808-ed15-453a-bb4f-095c5d2194d9"
      },
      "source": [
        "df.dtypes"
      ],
      "execution_count": null,
      "outputs": [
        {
          "output_type": "execute_result",
          "data": {
            "text/plain": [
              "ride_id             int64\n",
              "seat_number        object\n",
              "payment_method     object\n",
              "payment_receipt    object\n",
              "travel_date        object\n",
              "travel_time        object\n",
              "travel_from        object\n",
              "travel_to          object\n",
              "car_type           object\n",
              "max_capacity        int64\n",
              "dtype: object"
            ]
          },
          "metadata": {
            "tags": []
          },
          "execution_count": 27
        }
      ]
    },
    {
      "cell_type": "code",
      "metadata": {
        "colab": {
          "base_uri": "https://localhost:8080/"
        },
        "id": "cl99L3Qg_TBj",
        "outputId": "50ffd3b6-d7b6-4bba-fb20-27d906575626"
      },
      "source": [
        "df.car_type.value_counts()"
      ],
      "execution_count": null,
      "outputs": [
        {
          "output_type": "execute_result",
          "data": {
            "text/plain": [
              "Bus        31985\n",
              "shuttle    19660\n",
              "Name: car_type, dtype: int64"
            ]
          },
          "metadata": {
            "tags": []
          },
          "execution_count": 28
        }
      ]
    },
    {
      "cell_type": "code",
      "metadata": {
        "colab": {
          "base_uri": "https://localhost:8080/"
        },
        "id": "WkfO_4R2mv1V",
        "outputId": "f1dbbd1b-4781-4300-e61d-b15f969ee0c9"
      },
      "source": [
        "df.payment_method.value_counts()"
      ],
      "execution_count": null,
      "outputs": [
        {
          "output_type": "execute_result",
          "data": {
            "text/plain": [
              "Mpesa    51532\n",
              "Cash       113\n",
              "Name: payment_method, dtype: int64"
            ]
          },
          "metadata": {
            "tags": []
          },
          "execution_count": 29
        }
      ]
    },
    {
      "cell_type": "code",
      "metadata": {
        "colab": {
          "base_uri": "https://localhost:8080/",
          "height": 307
        },
        "id": "UizTWxb-9iBh",
        "outputId": "7d18b7a8-26fe-4009-dd13-2ec3d9f68402"
      },
      "source": [
        "df.car_type.value_counts().plot.bar()"
      ],
      "execution_count": null,
      "outputs": [
        {
          "output_type": "execute_result",
          "data": {
            "text/plain": [
              "<matplotlib.axes._subplots.AxesSubplot at 0x7f754201d438>"
            ]
          },
          "metadata": {
            "tags": []
          },
          "execution_count": 30
        },
        {
          "output_type": "display_data",
          "data": {
            "image/png": "[encoded data removed]",
            "text/plain": [
              "<Figure size 432x288 with 1 Axes>"
            ]
          },
          "metadata": {
            "tags": [],
            "needs_background": "light"
          }
        }
      ]
    },
    {
      "cell_type": "code",
      "metadata": {
        "colab": {
          "base_uri": "https://localhost:8080/",
          "height": 305
        },
        "id": "FrhpAttYMj1Z",
        "outputId": "9a3a7150-3d38-43d3-9406-9dbd14cae2f0"
      },
      "source": [
        "df.payment_method.value_counts().plot.bar()"
      ],
      "execution_count": null,
      "outputs": [
        {
          "output_type": "execute_result",
          "data": {
            "text/plain": [
              "<matplotlib.axes._subplots.AxesSubplot at 0x7f7541f962e8>"
            ]
          },
          "metadata": {
            "tags": []
          },
          "execution_count": 31
        },
        {
          "output_type": "display_data",
          "data": {
            "image/png": "[encoded data removed]",
            "text/plain": [
              "<Figure size 432x288 with 1 Axes>"
            ]
          },
          "metadata": {
            "tags": [],
            "needs_background": "light"
          }
        }
      ]
    },
    {
      "cell_type": "code",
      "metadata": {
        "colab": {
          "base_uri": "https://localhost:8080/",
          "height": 329
        },
        "id": "KXjFGTWCESP0",
        "outputId": "19136310-5f15-4316-a6d5-d18a9095c9aa"
      },
      "source": [
        "df.travel_from.value_counts().plot.bar()"
      ],
      "execution_count": null,
      "outputs": [
        {
          "output_type": "execute_result",
          "data": {
            "text/plain": [
              "<matplotlib.axes._subplots.AxesSubplot at 0x7f7541a6b588>"
            ]
          },
          "metadata": {
            "tags": []
          },
          "execution_count": 32
        },
        {
          "output_type": "display_data",
          "data": {
            "image/png": "[encoded data removed]",
            "text/plain": [
              "<Figure size 432x288 with 1 Axes>"
            ]
          },
          "metadata": {
            "tags": [],
            "needs_background": "light"
          }
        }
      ]
    },
    {
      "cell_type": "code",
      "metadata": {
        "id": "FX705t5V9Sg4",
        "colab": {
          "base_uri": "https://localhost:8080/",
          "height": 37
        },
        "outputId": "8262bb30-13b9-4b93-85f5-e18aa8234efb"
      },
      "source": [
        "df['travel_date'][0][6:8]"
      ],
      "execution_count": null,
      "outputs": [
        {
          "output_type": "execute_result",
          "data": {
            "application/vnd.google.colaboratory.intrinsic+json": {
              "type": "string"
            },
            "text/plain": [
              "'17'"
            ]
          },
          "metadata": {
            "tags": []
          },
          "execution_count": 33
        }
      ]
    },
    {
      "cell_type": "code",
      "metadata": {
        "id": "mpxnOqjGpUN9"
      },
      "source": [
        "df['travel_month_date'] = df['travel_date'].astype(str).str[:2]\n",
        "df['travel_month'] = df['travel_date'].astype(str).str[3:5]\n",
        "df['travel_year'] = df['travel_date'].astype(str).str[6:8]"
      ],
      "execution_count": null,
      "outputs": []
    },
    {
      "cell_type": "code",
      "metadata": {
        "colab": {
          "base_uri": "https://localhost:8080/"
        },
        "id": "vAI9bxXup7OV",
        "outputId": "75ffaeef-04b6-4352-a68a-69a0570895ae"
      },
      "source": [
        "\n",
        "df.travel_year.value_counts()"
      ],
      "execution_count": null,
      "outputs": [
        {
          "output_type": "execute_result",
          "data": {
            "text/plain": [
              "18    37945\n",
              "17    13700\n",
              "Name: travel_year, dtype: int64"
            ]
          },
          "metadata": {
            "tags": []
          },
          "execution_count": 35
        }
      ]
    },
    {
      "cell_type": "code",
      "metadata": {
        "colab": {
          "base_uri": "https://localhost:8080/"
        },
        "id": "fG976XecqQ5E",
        "outputId": "32c67b8b-1740-4990-bcde-e29c57cdbe69"
      },
      "source": [
        "df.travel_month.value_counts()"
      ],
      "execution_count": null,
      "outputs": [
        {
          "output_type": "execute_result",
          "data": {
            "text/plain": [
              "12    12768\n",
              "02    12315\n",
              "03    10876\n",
              "01     7830\n",
              "04     6924\n",
              "11      931\n",
              "10        1\n",
              "Name: travel_month, dtype: int64"
            ]
          },
          "metadata": {
            "tags": []
          },
          "execution_count": 36
        }
      ]
    },
    {
      "cell_type": "code",
      "metadata": {
        "colab": {
          "base_uri": "https://localhost:8080/"
        },
        "id": "PD0KekWHuJDE",
        "outputId": "f1f1fc6c-b4a5-4139-e9d7-b2b3511af84a"
      },
      "source": [
        "df.travel_month_date.value_counts()"
      ],
      "execution_count": null,
      "outputs": [
        {
          "output_type": "execute_result",
          "data": {
            "text/plain": [
              "13    2332\n",
              "12    2252\n",
              "09    2225\n",
              "08    2210\n",
              "14    2184\n",
              "11    2158\n",
              "07    2150\n",
              "10    2019\n",
              "19    1999\n",
              "18    1978\n",
              "04    1972\n",
              "16    1954\n",
              "06    1953\n",
              "15    1881\n",
              "28    1878\n",
              "05    1810\n",
              "17    1704\n",
              "01    1664\n",
              "20    1652\n",
              "27    1549\n",
              "02    1541\n",
              "22    1517\n",
              "21    1512\n",
              "23    1352\n",
              "29    1335\n",
              "03    1102\n",
              "24     950\n",
              "26     865\n",
              "25     677\n",
              "30     636\n",
              "31     634\n",
              "Name: travel_month_date, dtype: int64"
            ]
          },
          "metadata": {
            "tags": []
          },
          "execution_count": 37
        }
      ]
    },
    {
      "cell_type": "code",
      "metadata": {
        "id": "c0IuyHNBv6BQ"
      },
      "source": [
        "df[['travel_time_hrs','travel_time_mins']] = df.travel_time.str.split(\":\",expand=True)"
      ],
      "execution_count": null,
      "outputs": []
    },
    {
      "cell_type": "code",
      "metadata": {
        "colab": {
          "base_uri": "https://localhost:8080/",
          "height": 224
        },
        "id": "p-B9mPRJELkK",
        "outputId": "0911c218-6e47-42aa-f014-3ba58134ddfa"
      },
      "source": [
        "df.head()"
      ],
      "execution_count": null,
      "outputs": [
        {
          "output_type": "execute_result",
          "data": {
            "text/html": [
              "<div>\n",
              "<style scoped>\n",
              "    .dataframe tbody tr th:only-of-type {\n",
              "        vertical-align: middle;\n",
              "    }\n",
              "\n",
              "    .dataframe tbody tr th {\n",
              "        vertical-align: top;\n",
              "    }\n",
              "\n",
              "    .dataframe thead th {\n",
              "        text-align: right;\n",
              "    }\n",
              "</style>\n",
              "<table border=\"1\" class=\"dataframe\">\n",
              "  <thead>\n",
              "    <tr style=\"text-align: right;\">\n",
              "      <th></th>\n",
              "      <th>ride_id</th>\n",
              "      <th>seat_number</th>\n",
              "      <th>payment_method</th>\n",
              "      <th>payment_receipt</th>\n",
              "      <th>travel_date</th>\n",
              "      <th>travel_time</th>\n",
              "      <th>travel_from</th>\n",
              "      <th>travel_to</th>\n",
              "      <th>car_type</th>\n",
              "      <th>max_capacity</th>\n",
              "      <th>travel_month_date</th>\n",
              "      <th>travel_month</th>\n",
              "      <th>travel_year</th>\n",
              "      <th>travel_time_hrs</th>\n",
              "      <th>travel_time_mins</th>\n",
              "    </tr>\n",
              "  </thead>\n",
              "  <tbody>\n",
              "    <tr>\n",
              "      <th>0</th>\n",
              "      <td>1442</td>\n",
              "      <td>15A</td>\n",
              "      <td>Mpesa</td>\n",
              "      <td>UZUEHCBUSO</td>\n",
              "      <td>17-10-17</td>\n",
              "      <td>7:15</td>\n",
              "      <td>Migori</td>\n",
              "      <td>Nairobi</td>\n",
              "      <td>Bus</td>\n",
              "      <td>49</td>\n",
              "      <td>17</td>\n",
              "      <td>10</td>\n",
              "      <td>17</td>\n",
              "      <td>7</td>\n",
              "      <td>15</td>\n",
              "    </tr>\n",
              "    <tr>\n",
              "      <th>1</th>\n",
              "      <td>5437</td>\n",
              "      <td>14A</td>\n",
              "      <td>Mpesa</td>\n",
              "      <td>TIHLBUSGTE</td>\n",
              "      <td>19-11-17</td>\n",
              "      <td>7:12</td>\n",
              "      <td>Migori</td>\n",
              "      <td>Nairobi</td>\n",
              "      <td>Bus</td>\n",
              "      <td>49</td>\n",
              "      <td>19</td>\n",
              "      <td>11</td>\n",
              "      <td>17</td>\n",
              "      <td>7</td>\n",
              "      <td>12</td>\n",
              "    </tr>\n",
              "    <tr>\n",
              "      <th>2</th>\n",
              "      <td>5710</td>\n",
              "      <td>8B</td>\n",
              "      <td>Mpesa</td>\n",
              "      <td>EQX8Q5G19O</td>\n",
              "      <td>26-11-17</td>\n",
              "      <td>7:05</td>\n",
              "      <td>Keroka</td>\n",
              "      <td>Nairobi</td>\n",
              "      <td>Bus</td>\n",
              "      <td>49</td>\n",
              "      <td>26</td>\n",
              "      <td>11</td>\n",
              "      <td>17</td>\n",
              "      <td>7</td>\n",
              "      <td>05</td>\n",
              "    </tr>\n",
              "    <tr>\n",
              "      <th>3</th>\n",
              "      <td>5777</td>\n",
              "      <td>19A</td>\n",
              "      <td>Mpesa</td>\n",
              "      <td>SGP18CL0ME</td>\n",
              "      <td>27-11-17</td>\n",
              "      <td>7:10</td>\n",
              "      <td>Homa Bay</td>\n",
              "      <td>Nairobi</td>\n",
              "      <td>Bus</td>\n",
              "      <td>49</td>\n",
              "      <td>27</td>\n",
              "      <td>11</td>\n",
              "      <td>17</td>\n",
              "      <td>7</td>\n",
              "      <td>10</td>\n",
              "    </tr>\n",
              "    <tr>\n",
              "      <th>4</th>\n",
              "      <td>5778</td>\n",
              "      <td>11A</td>\n",
              "      <td>Mpesa</td>\n",
              "      <td>BM97HFRGL9</td>\n",
              "      <td>27-11-17</td>\n",
              "      <td>7:12</td>\n",
              "      <td>Migori</td>\n",
              "      <td>Nairobi</td>\n",
              "      <td>Bus</td>\n",
              "      <td>49</td>\n",
              "      <td>27</td>\n",
              "      <td>11</td>\n",
              "      <td>17</td>\n",
              "      <td>7</td>\n",
              "      <td>12</td>\n",
              "    </tr>\n",
              "  </tbody>\n",
              "</table>\n",
              "</div>"
            ],
            "text/plain": [
              "   ride_id seat_number  ... travel_time_hrs travel_time_mins\n",
              "0     1442         15A  ...               7               15\n",
              "1     5437         14A  ...               7               12\n",
              "2     5710          8B  ...               7               05\n",
              "3     5777         19A  ...               7               10\n",
              "4     5778         11A  ...               7               12\n",
              "\n",
              "[5 rows x 15 columns]"
            ]
          },
          "metadata": {
            "tags": []
          },
          "execution_count": 39
        }
      ]
    },
    {
      "cell_type": "code",
      "metadata": {
        "id": "R1Km2mQaK3PF"
      },
      "source": [
        "# df.travel_month.astype(int)"
      ],
      "execution_count": null,
      "outputs": []
    },
    {
      "cell_type": "code",
      "metadata": {
        "id": "lm4bogEJEM2i"
      },
      "source": [
        "# df['travel_month'] = df[['travel_date'][:4]]"
      ],
      "execution_count": null,
      "outputs": []
    },
    {
      "cell_type": "code",
      "metadata": {
        "colab": {
          "base_uri": "https://localhost:8080/",
          "height": 224
        },
        "id": "Gc_NqpGUKzFt",
        "outputId": "e886a385-ecca-4d6a-cfc8-c7fca0a4316a"
      },
      "source": [
        "df.head()"
      ],
      "execution_count": null,
      "outputs": [
        {
          "output_type": "execute_result",
          "data": {
            "text/html": [
              "<div>\n",
              "<style scoped>\n",
              "    .dataframe tbody tr th:only-of-type {\n",
              "        vertical-align: middle;\n",
              "    }\n",
              "\n",
              "    .dataframe tbody tr th {\n",
              "        vertical-align: top;\n",
              "    }\n",
              "\n",
              "    .dataframe thead th {\n",
              "        text-align: right;\n",
              "    }\n",
              "</style>\n",
              "<table border=\"1\" class=\"dataframe\">\n",
              "  <thead>\n",
              "    <tr style=\"text-align: right;\">\n",
              "      <th></th>\n",
              "      <th>ride_id</th>\n",
              "      <th>seat_number</th>\n",
              "      <th>payment_method</th>\n",
              "      <th>payment_receipt</th>\n",
              "      <th>travel_date</th>\n",
              "      <th>travel_time</th>\n",
              "      <th>travel_from</th>\n",
              "      <th>travel_to</th>\n",
              "      <th>car_type</th>\n",
              "      <th>max_capacity</th>\n",
              "      <th>travel_month</th>\n",
              "    </tr>\n",
              "  </thead>\n",
              "  <tbody>\n",
              "    <tr>\n",
              "      <th>0</th>\n",
              "      <td>1442</td>\n",
              "      <td>15A</td>\n",
              "      <td>Mpesa</td>\n",
              "      <td>UZUEHCBUSO</td>\n",
              "      <td>2017-10-17</td>\n",
              "      <td>7:15</td>\n",
              "      <td>Migori</td>\n",
              "      <td>Nairobi</td>\n",
              "      <td>Bus</td>\n",
              "      <td>49</td>\n",
              "      <td>2017-10-17</td>\n",
              "    </tr>\n",
              "    <tr>\n",
              "      <th>1</th>\n",
              "      <td>5437</td>\n",
              "      <td>14A</td>\n",
              "      <td>Mpesa</td>\n",
              "      <td>TIHLBUSGTE</td>\n",
              "      <td>2017-11-19</td>\n",
              "      <td>7:12</td>\n",
              "      <td>Migori</td>\n",
              "      <td>Nairobi</td>\n",
              "      <td>Bus</td>\n",
              "      <td>49</td>\n",
              "      <td>2017-11-19</td>\n",
              "    </tr>\n",
              "    <tr>\n",
              "      <th>2</th>\n",
              "      <td>5710</td>\n",
              "      <td>8B</td>\n",
              "      <td>Mpesa</td>\n",
              "      <td>EQX8Q5G19O</td>\n",
              "      <td>2017-11-26</td>\n",
              "      <td>7:05</td>\n",
              "      <td>Keroka</td>\n",
              "      <td>Nairobi</td>\n",
              "      <td>Bus</td>\n",
              "      <td>49</td>\n",
              "      <td>2017-11-26</td>\n",
              "    </tr>\n",
              "    <tr>\n",
              "      <th>3</th>\n",
              "      <td>5777</td>\n",
              "      <td>19A</td>\n",
              "      <td>Mpesa</td>\n",
              "      <td>SGP18CL0ME</td>\n",
              "      <td>2017-11-27</td>\n",
              "      <td>7:10</td>\n",
              "      <td>Homa Bay</td>\n",
              "      <td>Nairobi</td>\n",
              "      <td>Bus</td>\n",
              "      <td>49</td>\n",
              "      <td>2017-11-27</td>\n",
              "    </tr>\n",
              "    <tr>\n",
              "      <th>4</th>\n",
              "      <td>5778</td>\n",
              "      <td>11A</td>\n",
              "      <td>Mpesa</td>\n",
              "      <td>BM97HFRGL9</td>\n",
              "      <td>2017-11-27</td>\n",
              "      <td>7:12</td>\n",
              "      <td>Migori</td>\n",
              "      <td>Nairobi</td>\n",
              "      <td>Bus</td>\n",
              "      <td>49</td>\n",
              "      <td>2017-11-27</td>\n",
              "    </tr>\n",
              "  </tbody>\n",
              "</table>\n",
              "</div>"
            ],
            "text/plain": [
              "   ride_id seat_number payment_method  ... car_type max_capacity travel_month\n",
              "0     1442         15A          Mpesa  ...      Bus           49   2017-10-17\n",
              "1     5437         14A          Mpesa  ...      Bus           49   2017-11-19\n",
              "2     5710          8B          Mpesa  ...      Bus           49   2017-11-26\n",
              "3     5777         19A          Mpesa  ...      Bus           49   2017-11-27\n",
              "4     5778         11A          Mpesa  ...      Bus           49   2017-11-27\n",
              "\n",
              "[5 rows x 11 columns]"
            ]
          },
          "metadata": {
            "tags": []
          },
          "execution_count": 30
        }
      ]
    },
    {
      "cell_type": "code",
      "metadata": {
        "colab": {
          "base_uri": "https://localhost:8080/"
        },
        "id": "e8w3c13sk3KA",
        "outputId": "b6ff0254-dd3a-4cbb-8f65-c677621fd02f"
      },
      "source": [
        "df.travel_from.unique()"
      ],
      "execution_count": null,
      "outputs": [
        {
          "output_type": "execute_result",
          "data": {
            "text/plain": [
              "array(['Migori', 'Keroka', 'Homa Bay', 'Kisii', 'Keumbu', 'Rongo',\n",
              "       'Kijauri', 'Oyugis', 'Awendo', 'Sirare', 'Nyachenge', 'Kehancha',\n",
              "       'Kendu Bay', 'Sori', 'Rodi', 'Mbita', 'Ndhiwa'], dtype=object)"
            ]
          },
          "metadata": {
            "tags": []
          },
          "execution_count": 40
        }
      ]
    },
    {
      "cell_type": "code",
      "metadata": {
        "id": "AWFKCqS4n5jx"
      },
      "source": [
        "df_pr = df.copy()"
      ],
      "execution_count": null,
      "outputs": []
    },
    {
      "cell_type": "code",
      "metadata": {
        "colab": {
          "base_uri": "https://localhost:8080/",
          "height": 224
        },
        "id": "4J2H0g11n8dI",
        "outputId": "4bf57158-2b7a-45d1-b990-18a4a064428a"
      },
      "source": [
        "df_pr.head()"
      ],
      "execution_count": null,
      "outputs": [
        {
          "output_type": "execute_result",
          "data": {
            "text/html": [
              "<div>\n",
              "<style scoped>\n",
              "    .dataframe tbody tr th:only-of-type {\n",
              "        vertical-align: middle;\n",
              "    }\n",
              "\n",
              "    .dataframe tbody tr th {\n",
              "        vertical-align: top;\n",
              "    }\n",
              "\n",
              "    .dataframe thead th {\n",
              "        text-align: right;\n",
              "    }\n",
              "</style>\n",
              "<table border=\"1\" class=\"dataframe\">\n",
              "  <thead>\n",
              "    <tr style=\"text-align: right;\">\n",
              "      <th></th>\n",
              "      <th>ride_id</th>\n",
              "      <th>seat_number</th>\n",
              "      <th>payment_method</th>\n",
              "      <th>payment_receipt</th>\n",
              "      <th>travel_date</th>\n",
              "      <th>travel_time</th>\n",
              "      <th>travel_from</th>\n",
              "      <th>travel_to</th>\n",
              "      <th>car_type</th>\n",
              "      <th>max_capacity</th>\n",
              "      <th>travel_month_date</th>\n",
              "      <th>travel_month</th>\n",
              "      <th>travel_year</th>\n",
              "      <th>travel_time_hrs</th>\n",
              "      <th>travel_time_mins</th>\n",
              "    </tr>\n",
              "  </thead>\n",
              "  <tbody>\n",
              "    <tr>\n",
              "      <th>0</th>\n",
              "      <td>1442</td>\n",
              "      <td>15A</td>\n",
              "      <td>Mpesa</td>\n",
              "      <td>UZUEHCBUSO</td>\n",
              "      <td>17-10-17</td>\n",
              "      <td>7:15</td>\n",
              "      <td>Migori</td>\n",
              "      <td>Nairobi</td>\n",
              "      <td>Bus</td>\n",
              "      <td>49</td>\n",
              "      <td>17</td>\n",
              "      <td>10</td>\n",
              "      <td>17</td>\n",
              "      <td>7</td>\n",
              "      <td>15</td>\n",
              "    </tr>\n",
              "    <tr>\n",
              "      <th>1</th>\n",
              "      <td>5437</td>\n",
              "      <td>14A</td>\n",
              "      <td>Mpesa</td>\n",
              "      <td>TIHLBUSGTE</td>\n",
              "      <td>19-11-17</td>\n",
              "      <td>7:12</td>\n",
              "      <td>Migori</td>\n",
              "      <td>Nairobi</td>\n",
              "      <td>Bus</td>\n",
              "      <td>49</td>\n",
              "      <td>19</td>\n",
              "      <td>11</td>\n",
              "      <td>17</td>\n",
              "      <td>7</td>\n",
              "      <td>12</td>\n",
              "    </tr>\n",
              "    <tr>\n",
              "      <th>2</th>\n",
              "      <td>5710</td>\n",
              "      <td>8B</td>\n",
              "      <td>Mpesa</td>\n",
              "      <td>EQX8Q5G19O</td>\n",
              "      <td>26-11-17</td>\n",
              "      <td>7:05</td>\n",
              "      <td>Keroka</td>\n",
              "      <td>Nairobi</td>\n",
              "      <td>Bus</td>\n",
              "      <td>49</td>\n",
              "      <td>26</td>\n",
              "      <td>11</td>\n",
              "      <td>17</td>\n",
              "      <td>7</td>\n",
              "      <td>05</td>\n",
              "    </tr>\n",
              "    <tr>\n",
              "      <th>3</th>\n",
              "      <td>5777</td>\n",
              "      <td>19A</td>\n",
              "      <td>Mpesa</td>\n",
              "      <td>SGP18CL0ME</td>\n",
              "      <td>27-11-17</td>\n",
              "      <td>7:10</td>\n",
              "      <td>Homa Bay</td>\n",
              "      <td>Nairobi</td>\n",
              "      <td>Bus</td>\n",
              "      <td>49</td>\n",
              "      <td>27</td>\n",
              "      <td>11</td>\n",
              "      <td>17</td>\n",
              "      <td>7</td>\n",
              "      <td>10</td>\n",
              "    </tr>\n",
              "    <tr>\n",
              "      <th>4</th>\n",
              "      <td>5778</td>\n",
              "      <td>11A</td>\n",
              "      <td>Mpesa</td>\n",
              "      <td>BM97HFRGL9</td>\n",
              "      <td>27-11-17</td>\n",
              "      <td>7:12</td>\n",
              "      <td>Migori</td>\n",
              "      <td>Nairobi</td>\n",
              "      <td>Bus</td>\n",
              "      <td>49</td>\n",
              "      <td>27</td>\n",
              "      <td>11</td>\n",
              "      <td>17</td>\n",
              "      <td>7</td>\n",
              "      <td>12</td>\n",
              "    </tr>\n",
              "  </tbody>\n",
              "</table>\n",
              "</div>"
            ],
            "text/plain": [
              "   ride_id seat_number  ... travel_time_hrs travel_time_mins\n",
              "0     1442         15A  ...               7               15\n",
              "1     5437         14A  ...               7               12\n",
              "2     5710          8B  ...               7               05\n",
              "3     5777         19A  ...               7               10\n",
              "4     5778         11A  ...               7               12\n",
              "\n",
              "[5 rows x 15 columns]"
            ]
          },
          "metadata": {
            "tags": []
          },
          "execution_count": 121
        }
      ]
    },
    {
      "cell_type": "code",
      "metadata": {
        "id": "3nqoykI-oFQ_"
      },
      "source": [
        "df_pr.drop(columns=['payment_receipt','travel_to','seat_number','travel_date','travel_time'],inplace=True)"
      ],
      "execution_count": null,
      "outputs": []
    },
    {
      "cell_type": "code",
      "metadata": {
        "id": "HfrAEzEDoq8c"
      },
      "source": [
        "encoder_nums = {\"car_type\":{\"Bus\":0,\"shuttle\":1},\n",
        "                 \"travel_from\":{\"Migori\":0,\"Keroka\":1,\"Homa Bay\":2,\"Kisii\":3,\"Keumbu\":4, \"Rongo\":5,\"Kijauri\":6, \"Oyugis\":7, \"Awendo\":8, \"Sirare\":9, \"Nyachenge\":10, \"Kehancha\":11, \"Kendu Bay\":12, \"Sori\":13, \"Rodi\":14, \"Mbita\":15, \"Ndhiwa\":16},\n",
        "                 \"payment_method\":     {\"Mpesa\": 0, \"Cash\": 1},\n",
        "                 \"travel_year\": {\"17\":2017, \"18\":2018}\n",
        "                 \n",
        "                 }"
      ],
      "execution_count": null,
      "outputs": []
    },
    {
      "cell_type": "code",
      "metadata": {
        "id": "rpclxImYokmW"
      },
      "source": [
        "df_pr = df_pr.replace(encoder_nums)"
      ],
      "execution_count": null,
      "outputs": []
    },
    {
      "cell_type": "code",
      "metadata": {
        "colab": {
          "base_uri": "https://localhost:8080/",
          "height": 204
        },
        "id": "wO1SRPbYotVB",
        "outputId": "aa924eaa-c225-48b5-8c91-164a9864fa03"
      },
      "source": [
        "df_pr.head()"
      ],
      "execution_count": null,
      "outputs": [
        {
          "output_type": "execute_result",
          "data": {
            "text/html": [
              "<div>\n",
              "<style scoped>\n",
              "    .dataframe tbody tr th:only-of-type {\n",
              "        vertical-align: middle;\n",
              "    }\n",
              "\n",
              "    .dataframe tbody tr th {\n",
              "        vertical-align: top;\n",
              "    }\n",
              "\n",
              "    .dataframe thead th {\n",
              "        text-align: right;\n",
              "    }\n",
              "</style>\n",
              "<table border=\"1\" class=\"dataframe\">\n",
              "  <thead>\n",
              "    <tr style=\"text-align: right;\">\n",
              "      <th></th>\n",
              "      <th>ride_id</th>\n",
              "      <th>payment_method</th>\n",
              "      <th>travel_from</th>\n",
              "      <th>car_type</th>\n",
              "      <th>max_capacity</th>\n",
              "      <th>travel_month_date</th>\n",
              "      <th>travel_month</th>\n",
              "      <th>travel_year</th>\n",
              "      <th>travel_time_hrs</th>\n",
              "      <th>travel_time_mins</th>\n",
              "    </tr>\n",
              "  </thead>\n",
              "  <tbody>\n",
              "    <tr>\n",
              "      <th>0</th>\n",
              "      <td>1442</td>\n",
              "      <td>0</td>\n",
              "      <td>0</td>\n",
              "      <td>0</td>\n",
              "      <td>49</td>\n",
              "      <td>17</td>\n",
              "      <td>10</td>\n",
              "      <td>2017</td>\n",
              "      <td>7</td>\n",
              "      <td>15</td>\n",
              "    </tr>\n",
              "    <tr>\n",
              "      <th>1</th>\n",
              "      <td>5437</td>\n",
              "      <td>0</td>\n",
              "      <td>0</td>\n",
              "      <td>0</td>\n",
              "      <td>49</td>\n",
              "      <td>19</td>\n",
              "      <td>11</td>\n",
              "      <td>2017</td>\n",
              "      <td>7</td>\n",
              "      <td>12</td>\n",
              "    </tr>\n",
              "    <tr>\n",
              "      <th>2</th>\n",
              "      <td>5710</td>\n",
              "      <td>0</td>\n",
              "      <td>1</td>\n",
              "      <td>0</td>\n",
              "      <td>49</td>\n",
              "      <td>26</td>\n",
              "      <td>11</td>\n",
              "      <td>2017</td>\n",
              "      <td>7</td>\n",
              "      <td>05</td>\n",
              "    </tr>\n",
              "    <tr>\n",
              "      <th>3</th>\n",
              "      <td>5777</td>\n",
              "      <td>0</td>\n",
              "      <td>2</td>\n",
              "      <td>0</td>\n",
              "      <td>49</td>\n",
              "      <td>27</td>\n",
              "      <td>11</td>\n",
              "      <td>2017</td>\n",
              "      <td>7</td>\n",
              "      <td>10</td>\n",
              "    </tr>\n",
              "    <tr>\n",
              "      <th>4</th>\n",
              "      <td>5778</td>\n",
              "      <td>0</td>\n",
              "      <td>0</td>\n",
              "      <td>0</td>\n",
              "      <td>49</td>\n",
              "      <td>27</td>\n",
              "      <td>11</td>\n",
              "      <td>2017</td>\n",
              "      <td>7</td>\n",
              "      <td>12</td>\n",
              "    </tr>\n",
              "  </tbody>\n",
              "</table>\n",
              "</div>"
            ],
            "text/plain": [
              "   ride_id  payment_method  ...  travel_time_hrs  travel_time_mins\n",
              "0     1442               0  ...                7                15\n",
              "1     5437               0  ...                7                12\n",
              "2     5710               0  ...                7                05\n",
              "3     5777               0  ...                7                10\n",
              "4     5778               0  ...                7                12\n",
              "\n",
              "[5 rows x 10 columns]"
            ]
          },
          "metadata": {
            "tags": []
          },
          "execution_count": 125
        }
      ]
    },
    {
      "cell_type": "code",
      "metadata": {
        "id": "GdrGWb5VoTi1"
      },
      "source": [
        "# df_pr['travel_month_date'].astype(int)\n",
        "# df_pr['travel_month'].astype(int)\n",
        "# df_pr.astype(int)"
      ],
      "execution_count": null,
      "outputs": []
    },
    {
      "cell_type": "code",
      "metadata": {
        "id": "e45qCm37m87q"
      },
      "source": [
        "df_pr = df_pr.astype(int)"
      ],
      "execution_count": null,
      "outputs": []
    },
    {
      "cell_type": "code",
      "metadata": {
        "colab": {
          "base_uri": "https://localhost:8080/"
        },
        "id": "7l9PzF9axABB",
        "outputId": "d65295f2-6e48-43ba-e599-4ac21f65470a"
      },
      "source": [
        "df_pr.dtypes"
      ],
      "execution_count": null,
      "outputs": [
        {
          "output_type": "execute_result",
          "data": {
            "text/plain": [
              "ride_id              int64\n",
              "payment_method       int64\n",
              "travel_from          int64\n",
              "car_type             int64\n",
              "max_capacity         int64\n",
              "travel_month_date    int64\n",
              "travel_month         int64\n",
              "travel_year          int64\n",
              "travel_time_hrs      int64\n",
              "travel_time_mins     int64\n",
              "dtype: object"
            ]
          },
          "metadata": {
            "tags": []
          },
          "execution_count": 131
        }
      ]
    },
    {
      "cell_type": "code",
      "metadata": {
        "colab": {
          "base_uri": "https://localhost:8080/",
          "height": 1000
        },
        "id": "BTsV7O5mxC0A",
        "outputId": "f846088b-841b-47a9-9946-d03d0e9ebb26"
      },
      "source": [
        "for col in df_pr.columns:\n",
        "  plt.figure(figsize=(8,8))\n",
        "  sns.distplot(df_pr[col])\n"
      ],
      "execution_count": null,
      "outputs": [
        {
          "output_type": "stream",
          "text": [
            "/usr/local/lib/python3.6/dist-packages/seaborn/distributions.py:2551: FutureWarning: `distplot` is a deprecated function and will be removed in a future version. Please adapt your code to use either `displot` (a figure-level function with similar flexibility) or `histplot` (an axes-level function for histograms).\n",
            "  warnings.warn(msg, FutureWarning)\n",
            "/usr/local/lib/python3.6/dist-packages/seaborn/distributions.py:2551: FutureWarning: `distplot` is a deprecated function and will be removed in a future version. Please adapt your code to use either `displot` (a figure-level function with similar flexibility) or `histplot` (an axes-level function for histograms).\n",
            "  warnings.warn(msg, FutureWarning)\n",
            "/usr/local/lib/python3.6/dist-packages/seaborn/distributions.py:2551: FutureWarning: `distplot` is a deprecated function and will be removed in a future version. Please adapt your code to use either `displot` (a figure-level function with similar flexibility) or `histplot` (an axes-level function for histograms).\n",
            "  warnings.warn(msg, FutureWarning)\n",
            "/usr/local/lib/python3.6/dist-packages/seaborn/distributions.py:2551: FutureWarning: `distplot` is a deprecated function and will be removed in a future version. Please adapt your code to use either `displot` (a figure-level function with similar flexibility) or `histplot` (an axes-level function for histograms).\n",
            "  warnings.warn(msg, FutureWarning)\n",
            "/usr/local/lib/python3.6/dist-packages/seaborn/distributions.py:2551: FutureWarning: `distplot` is a deprecated function and will be removed in a future version. Please adapt your code to use either `displot` (a figure-level function with similar flexibility) or `histplot` (an axes-level function for histograms).\n",
            "  warnings.warn(msg, FutureWarning)\n",
            "/usr/local/lib/python3.6/dist-packages/seaborn/distributions.py:2551: FutureWarning: `distplot` is a deprecated function and will be removed in a future version. Please adapt your code to use either `displot` (a figure-level function with similar flexibility) or `histplot` (an axes-level function for histograms).\n",
            "  warnings.warn(msg, FutureWarning)\n",
            "/usr/local/lib/python3.6/dist-packages/seaborn/distributions.py:2551: FutureWarning: `distplot` is a deprecated function and will be removed in a future version. Please adapt your code to use either `displot` (a figure-level function with similar flexibility) or `histplot` (an axes-level function for histograms).\n",
            "  warnings.warn(msg, FutureWarning)\n",
            "/usr/local/lib/python3.6/dist-packages/seaborn/distributions.py:2551: FutureWarning: `distplot` is a deprecated function and will be removed in a future version. Please adapt your code to use either `displot` (a figure-level function with similar flexibility) or `histplot` (an axes-level function for histograms).\n",
            "  warnings.warn(msg, FutureWarning)\n",
            "/usr/local/lib/python3.6/dist-packages/seaborn/distributions.py:2551: FutureWarning: `distplot` is a deprecated function and will be removed in a future version. Please adapt your code to use either `displot` (a figure-level function with similar flexibility) or `histplot` (an axes-level function for histograms).\n",
            "  warnings.warn(msg, FutureWarning)\n",
            "/usr/local/lib/python3.6/dist-packages/seaborn/distributions.py:2551: FutureWarning: `distplot` is a deprecated function and will be removed in a future version. Please adapt your code to use either `displot` (a figure-level function with similar flexibility) or `histplot` (an axes-level function for histograms).\n",
            "  warnings.warn(msg, FutureWarning)\n"
          ],
          "name": "stderr"
        },
        {
          "output_type": "display_data",
          "data": {
            "image/png": "[encoded data removed]",
            "text/plain": [
              "<Figure size 576x576 with 1 Axes>"
            ]
          },
          "metadata": {
            "tags": [],
            "needs_background": "light"
          }
        },
        {
          "output_type": "display_data",
          "data": {
            "image/png": "[encoded data removed]",
            "text/plain": [
              "<Figure size 576x576 with 1 Axes>"
            ]
          },
          "metadata": {
            "tags": [],
            "needs_background": "light"
          }
        },
        {
          "output_type": "display_data",
          "data": {
            "image/png": "[encoded data removed]",
            "text/plain": [
              "<Figure size 576x576 with 1 Axes>"
            ]
          },
          "metadata": {
            "tags": [],
            "needs_background": "light"
          }
        },
        {
          "output_type": "display_data",
          "data": {
            "image/png": "[encoded data removed]",
            "text/plain": [
              "<Figure size 576x576 with 1 Axes>"
            ]
          },
          "metadata": {
            "tags": [],
            "needs_background": "light"
          }
        },
        {
          "output_type": "display_data",
          "data": {
            "image/png": "[encoded data removed]",
            "text/plain": [
              "<Figure size 576x576 with 1 Axes>"
            ]
          },
          "metadata": {
            "tags": [],
            "needs_background": "light"
          }
        },
        {
          "output_type": "display_data",
          "data": {
            "image/png": "[encoded data removed]",
            "text/plain": [
              "<Figure size 576x576 with 1 Axes>"
            ]
          },
          "metadata": {
            "tags": [],
            "needs_background": "light"
          }
        },
        {
          "output_type": "display_data",
          "data": {
            "image/png": "[encoded data removed]",
            "text/plain": [
              "<Figure size 576x576 with 1 Axes>"
            ]
          },
          "metadata": {
            "tags": [],
            "needs_background": "light"
          }
        },
        {
          "output_type": "display_data",
          "data": {
            "image/png": "[encoded data removed]",
            "text/plain": [
              "<Figure size 576x576 with 1 Axes>"
            ]
          },
          "metadata": {
            "tags": [],
            "needs_background": "light"
          }
        },
        {
          "output_type": "display_data",
          "data": {
            "image/png": "[encoded data removed]",
            "text/plain": [
              "<Figure size 576x576 with 1 Axes>"
            ]
          },
          "metadata": {
            "tags": [],
            "needs_background": "light"
          }
        },
        {
          "output_type": "display_data",
          "data": {
            "image/png": "[encoded data removed]",
            "text/plain": [
              "<Figure size 576x576 with 1 Axes>"
            ]
          },
          "metadata": {
            "tags": [],
            "needs_background": "light"
          }
        }
      ]
    },
    {
      "cell_type": "code",
      "metadata": {
        "colab": {
          "base_uri": "https://localhost:8080/",
          "height": 696
        },
        "id": "YtKHd0ZFxaH8",
        "outputId": "1e05bff1-f38d-4b4c-fb59-350c766797af"
      },
      "source": [
        "plt.figure(figsize=(12,10))\n",
        "sns.heatmap(df_pr.corr(),annot= True)"
      ],
      "execution_count": null,
      "outputs": [
        {
          "output_type": "execute_result",
          "data": {
            "text/plain": [
              "<matplotlib.axes._subplots.AxesSubplot at 0x7f5175ea00f0>"
            ]
          },
          "metadata": {
            "tags": []
          },
          "execution_count": 135
        },
        {
          "output_type": "display_data",
          "data": {
            "image/png": "[encoded data removed]",
            "text/plain": [
              "<Figure size 864x720 with 2 Axes>"
            ]
          },
          "metadata": {
            "tags": [],
            "needs_background": "light"
          }
        }
      ]
    },
    {
      "cell_type": "code",
      "metadata": {
        "colab": {
          "base_uri": "https://localhost:8080/",
          "height": 639
        },
        "id": "SmU4w59T1nFe",
        "outputId": "049fcf55-e5ae-4ea7-b5bb-7540966a8781"
      },
      "source": [
        "# for col in df_pr.columns:\n",
        "plt.figure(figsize=(10,10))\n",
        "x = df_pr['ride_id']\n",
        "y = df_pr['travel_from']\n",
        "plt.scatter(x, y,color='green')\n",
        "plt.title('Scatter plot between PTRATIO and MEDV')\n",
        "plt.xlabel('ride_id')\n",
        "plt.ylabel('travel_time_hrs')"
      ],
      "execution_count": null,
      "outputs": [
        {
          "output_type": "execute_result",
          "data": {
            "text/plain": [
              "Text(0, 0.5, 'travel_time_hrs')"
            ]
          },
          "metadata": {
            "tags": []
          },
          "execution_count": 152
        },
        {
          "output_type": "display_data",
          "data": {
            "image/png": "[encoded data removed]",
            "text/plain": [
              "<Figure size 720x720 with 1 Axes>"
            ]
          },
          "metadata": {
            "tags": [],
            "needs_background": "light"
          }
        }
      ]
    },
    {
      "cell_type": "code",
      "metadata": {
        "id": "nsoDTkUL0ziW"
      },
      "source": [
        "dependent_variable = 'ride_id'"
      ],
      "execution_count": null,
      "outputs": []
    },
    {
      "cell_type": "code",
      "metadata": {
        "id": "o5n8gK9syHeI"
      },
      "source": [
        "# Create a list of independent variables\n",
        "independent_variables = list(set(df_pr.columns.tolist()) - {dependent_variable})"
      ],
      "execution_count": null,
      "outputs": []
    },
    {
      "cell_type": "code",
      "metadata": {
        "id": "9NBk1ULf06aP"
      },
      "source": [
        "# Create the data of independent variables\n",
        "X = df_pr[independent_variables].values\n",
        "\n",
        "# Create the dependent variable data\n",
        "y = df_pr[dependent_variable].values"
      ],
      "execution_count": null,
      "outputs": []
    },
    {
      "cell_type": "code",
      "metadata": {
        "id": "OOFixhF31Moo"
      },
      "source": [
        "\n",
        "from sklearn.preprocessing import MinMaxScaler\n",
        "from sklearn.model_selection import train_test_split\n",
        "from sklearn.linear_model import LinearRegression\n",
        "from sklearn.metrics import r2_score\n",
        "from sklearn.metrics import mean_squared_error\n",
        "from sklearn.metrics import mean_absolute_error\n",
        "from numpy import math"
      ],
      "execution_count": null,
      "outputs": []
    },
    {
      "cell_type": "code",
      "metadata": {
        "id": "cl44nb870_De"
      },
      "source": [
        "# Splitting the dataset into the Training set and Test set\n",
        "X_train, X_test, y_train, y_test = train_test_split(X, y, test_size = 0.2, random_state = 0)"
      ],
      "execution_count": null,
      "outputs": []
    },
    {
      "cell_type": "code",
      "metadata": {
        "colab": {
          "base_uri": "https://localhost:8080/"
        },
        "id": "JZk53J7F1Gim",
        "outputId": "cf839c6c-9570-4978-9227-6063d9dd9f78"
      },
      "source": [
        "# Fitting Multiple Linear Regression to the Training set\n",
        "regressor = LinearRegression()\n",
        "regressor.fit(X_train, y_train)"
      ],
      "execution_count": null,
      "outputs": [
        {
          "output_type": "execute_result",
          "data": {
            "text/plain": [
              "LinearRegression(copy_X=True, fit_intercept=True, n_jobs=None, normalize=False)"
            ]
          },
          "metadata": {
            "tags": []
          },
          "execution_count": 143
        }
      ]
    },
    {
      "cell_type": "code",
      "metadata": {
        "id": "G4MWv9x_1TOn"
      },
      "source": [
        "# Predicting the Test set results\n",
        "y_pred = regressor.predict(X_test)"
      ],
      "execution_count": null,
      "outputs": []
    },
    {
      "cell_type": "code",
      "metadata": {
        "colab": {
          "base_uri": "https://localhost:8080/"
        },
        "id": "BLXMUpAV1Wvd",
        "outputId": "21b0d9f8-e687-4425-a1f5-fba18ac53331"
      },
      "source": [
        "math.sqrt(mean_squared_error(y_test, y_pred))"
      ],
      "execution_count": null,
      "outputs": [
        {
          "output_type": "execute_result",
          "data": {
            "text/plain": [
              "1836.5161488659764"
            ]
          },
          "metadata": {
            "tags": []
          },
          "execution_count": 148
        }
      ]
    },
    {
      "cell_type": "code",
      "metadata": {
        "colab": {
          "base_uri": "https://localhost:8080/"
        },
        "id": "EyPsxtSj1Zks",
        "outputId": "1c8094a7-cbbd-4916-a32c-567f2b4a174f"
      },
      "source": [
        "r2_score(y_test, y_pred)"
      ],
      "execution_count": null,
      "outputs": [
        {
          "output_type": "execute_result",
          "data": {
            "text/plain": [
              "0.30355098440813155"
            ]
          },
          "metadata": {
            "tags": []
          },
          "execution_count": 149
        }
      ]
    },
    {
      "cell_type": "code",
      "metadata": {
        "id": "2TJck8FZ1doa"
      },
      "source": [
        ""
      ],
      "execution_count": null,
      "outputs": []
    },
    {
      "cell_type": "markdown",
      "metadata": {
        "id": "nvIP0Swn_KMS"
      },
      "source": [
        ""
      ]
    },
    {
      "cell_type": "code",
      "metadata": {
        "id": "lH_Zy-fc_K7u"
      },
      "source": [
        "df2 = pd.read_csv('/content/drive/MyDrive/AlmaBetter/Cohort Aravali/Module 4/Week 1/Data _ Resources/train_revised.csv')"
      ],
      "execution_count": null,
      "outputs": []
    },
    {
      "cell_type": "code",
      "metadata": {
        "colab": {
          "base_uri": "https://localhost:8080/",
          "height": 204
        },
        "id": "7zjzb6SH_Pbz",
        "outputId": "9523285e-ed05-489f-8158-3cf8203af332"
      },
      "source": [
        "df2.head()"
      ],
      "execution_count": null,
      "outputs": [
        {
          "output_type": "execute_result",
          "data": {
            "text/html": [
              "<div>\n",
              "<style scoped>\n",
              "    .dataframe tbody tr th:only-of-type {\n",
              "        vertical-align: middle;\n",
              "    }\n",
              "\n",
              "    .dataframe tbody tr th {\n",
              "        vertical-align: top;\n",
              "    }\n",
              "\n",
              "    .dataframe thead th {\n",
              "        text-align: right;\n",
              "    }\n",
              "</style>\n",
              "<table border=\"1\" class=\"dataframe\">\n",
              "  <thead>\n",
              "    <tr style=\"text-align: right;\">\n",
              "      <th></th>\n",
              "      <th>ride_id</th>\n",
              "      <th>seat_number</th>\n",
              "      <th>payment_method</th>\n",
              "      <th>payment_receipt</th>\n",
              "      <th>travel_date</th>\n",
              "      <th>travel_time</th>\n",
              "      <th>travel_from</th>\n",
              "      <th>travel_to</th>\n",
              "      <th>car_type</th>\n",
              "      <th>max_capacity</th>\n",
              "    </tr>\n",
              "  </thead>\n",
              "  <tbody>\n",
              "    <tr>\n",
              "      <th>0</th>\n",
              "      <td>1442</td>\n",
              "      <td>15A</td>\n",
              "      <td>Mpesa</td>\n",
              "      <td>UZUEHCBUSO</td>\n",
              "      <td>17-10-17</td>\n",
              "      <td>7:15</td>\n",
              "      <td>Migori</td>\n",
              "      <td>Nairobi</td>\n",
              "      <td>Bus</td>\n",
              "      <td>49</td>\n",
              "    </tr>\n",
              "    <tr>\n",
              "      <th>1</th>\n",
              "      <td>5437</td>\n",
              "      <td>14A</td>\n",
              "      <td>Mpesa</td>\n",
              "      <td>TIHLBUSGTE</td>\n",
              "      <td>19-11-17</td>\n",
              "      <td>7:12</td>\n",
              "      <td>Migori</td>\n",
              "      <td>Nairobi</td>\n",
              "      <td>Bus</td>\n",
              "      <td>49</td>\n",
              "    </tr>\n",
              "    <tr>\n",
              "      <th>2</th>\n",
              "      <td>5710</td>\n",
              "      <td>8B</td>\n",
              "      <td>Mpesa</td>\n",
              "      <td>EQX8Q5G19O</td>\n",
              "      <td>26-11-17</td>\n",
              "      <td>7:05</td>\n",
              "      <td>Keroka</td>\n",
              "      <td>Nairobi</td>\n",
              "      <td>Bus</td>\n",
              "      <td>49</td>\n",
              "    </tr>\n",
              "    <tr>\n",
              "      <th>3</th>\n",
              "      <td>5777</td>\n",
              "      <td>19A</td>\n",
              "      <td>Mpesa</td>\n",
              "      <td>SGP18CL0ME</td>\n",
              "      <td>27-11-17</td>\n",
              "      <td>7:10</td>\n",
              "      <td>Homa Bay</td>\n",
              "      <td>Nairobi</td>\n",
              "      <td>Bus</td>\n",
              "      <td>49</td>\n",
              "    </tr>\n",
              "    <tr>\n",
              "      <th>4</th>\n",
              "      <td>5778</td>\n",
              "      <td>11A</td>\n",
              "      <td>Mpesa</td>\n",
              "      <td>BM97HFRGL9</td>\n",
              "      <td>27-11-17</td>\n",
              "      <td>7:12</td>\n",
              "      <td>Migori</td>\n",
              "      <td>Nairobi</td>\n",
              "      <td>Bus</td>\n",
              "      <td>49</td>\n",
              "    </tr>\n",
              "  </tbody>\n",
              "</table>\n",
              "</div>"
            ],
            "text/plain": [
              "   ride_id seat_number payment_method  ... travel_to car_type max_capacity\n",
              "0     1442         15A          Mpesa  ...   Nairobi      Bus           49\n",
              "1     5437         14A          Mpesa  ...   Nairobi      Bus           49\n",
              "2     5710          8B          Mpesa  ...   Nairobi      Bus           49\n",
              "3     5777         19A          Mpesa  ...   Nairobi      Bus           49\n",
              "4     5778         11A          Mpesa  ...   Nairobi      Bus           49\n",
              "\n",
              "[5 rows x 10 columns]"
            ]
          },
          "metadata": {
            "tags": []
          },
          "execution_count": 11
        }
      ]
    },
    {
      "cell_type": "code",
      "metadata": {
        "id": "xRcnNPOr_RFW"
      },
      "source": [
        "ride_id_dict = {} \n",
        "for ride_id in df2[\"ride_id\"]:\n",
        "    if not ride_id in ride_id_dict:\n",
        "        ride_id_dict[ride_id] = 1\n",
        "    else:\n",
        "        ride_id_dict[ride_id] += 1\n"
      ],
      "execution_count": null,
      "outputs": []
    },
    {
      "cell_type": "code",
      "metadata": {
        "colab": {
          "base_uri": "https://localhost:8080/"
        },
        "id": "WV0a-koUAEEd",
        "outputId": "b8558f07-d785-4880-eea5-5fac258c3a61"
      },
      "source": [
        "ride_id_dict"
      ],
      "execution_count": null,
      "outputs": [
        {
          "output_type": "execute_result",
          "data": {
            "text/plain": [
              "{1442: 1,\n",
              " 5437: 1,\n",
              " 5710: 1,\n",
              " 5777: 5,\n",
              " 5778: 31,\n",
              " 5781: 26,\n",
              " 5784: 1,\n",
              " 5789: 1,\n",
              " 5790: 2,\n",
              " 5791: 1,\n",
              " 5792: 1,\n",
              " 5793: 1,\n",
              " 5794: 2,\n",
              " 5795: 1,\n",
              " 5796: 2,\n",
              " 5797: 3,\n",
              " 5798: 1,\n",
              " 5800: 2,\n",
              " 5801: 11,\n",
              " 5802: 3,\n",
              " 5803: 11,\n",
              " 5804: 1,\n",
              " 5808: 2,\n",
              " 5809: 1,\n",
              " 5810: 1,\n",
              " 5811: 1,\n",
              " 5812: 1,\n",
              " 5816: 1,\n",
              " 5817: 1,\n",
              " 5822: 1,\n",
              " 5823: 2,\n",
              " 5824: 1,\n",
              " 5825: 1,\n",
              " 5826: 1,\n",
              " 5830: 1,\n",
              " 5834: 1,\n",
              " 5835: 2,\n",
              " 5836: 1,\n",
              " 5837: 1,\n",
              " 5838: 1,\n",
              " 5839: 1,\n",
              " 5840: 1,\n",
              " 5844: 1,\n",
              " 5845: 1,\n",
              " 5849: 1,\n",
              " 5850: 1,\n",
              " 5851: 1,\n",
              " 5852: 1,\n",
              " 5853: 1,\n",
              " 5856: 11,\n",
              " 5857: 4,\n",
              " 5858: 11,\n",
              " 5861: 1,\n",
              " 5862: 1,\n",
              " 5863: 1,\n",
              " 5864: 1,\n",
              " 5867: 9,\n",
              " 5868: 6,\n",
              " 5873: 1,\n",
              " 5874: 5,\n",
              " 5875: 3,\n",
              " 5876: 1,\n",
              " 5878: 2,\n",
              " 5880: 11,\n",
              " 5881: 1,\n",
              " 5882: 4,\n",
              " 5886: 1,\n",
              " 5887: 1,\n",
              " 5888: 1,\n",
              " 5889: 1,\n",
              " 5890: 1,\n",
              " 5894: 11,\n",
              " 5897: 11,\n",
              " 5898: 1,\n",
              " 5899: 1,\n",
              " 5901: 11,\n",
              " 5902: 5,\n",
              " 5910: 11,\n",
              " 5918: 1,\n",
              " 5919: 1,\n",
              " 5920: 1,\n",
              " 5921: 1,\n",
              " 5922: 1,\n",
              " 5923: 1,\n",
              " 5924: 1,\n",
              " 5925: 1,\n",
              " 5928: 1,\n",
              " 5929: 8,\n",
              " 5931: 1,\n",
              " 5933: 1,\n",
              " 5940: 1,\n",
              " 5941: 3,\n",
              " 5942: 1,\n",
              " 5943: 1,\n",
              " 5944: 1,\n",
              " 5945: 1,\n",
              " 5946: 1,\n",
              " 5947: 11,\n",
              " 5950: 10,\n",
              " 5951: 6,\n",
              " 5953: 1,\n",
              " 5957: 6,\n",
              " 5958: 1,\n",
              " 5937: 1,\n",
              " 5959: 1,\n",
              " 5960: 1,\n",
              " 5961: 1,\n",
              " 5964: 2,\n",
              " 5965: 1,\n",
              " 5969: 2,\n",
              " 5971: 1,\n",
              " 5972: 2,\n",
              " 5973: 1,\n",
              " 5976: 2,\n",
              " 5982: 4,\n",
              " 5983: 1,\n",
              " 5984: 1,\n",
              " 5985: 1,\n",
              " 5986: 1,\n",
              " 5988: 3,\n",
              " 5993: 1,\n",
              " 5994: 1,\n",
              " 5995: 1,\n",
              " 5996: 2,\n",
              " 5997: 1,\n",
              " 5998: 1,\n",
              " 6000: 1,\n",
              " 6003: 5,\n",
              " 6008: 2,\n",
              " 6009: 1,\n",
              " 6010: 1,\n",
              " 6013: 1,\n",
              " 6015: 8,\n",
              " 6019: 2,\n",
              " 6020: 1,\n",
              " 6021: 1,\n",
              " 6022: 1,\n",
              " 6029: 1,\n",
              " 6030: 1,\n",
              " 6031: 1,\n",
              " 6032: 1,\n",
              " 6037: 1,\n",
              " 6038: 1,\n",
              " 6039: 1,\n",
              " 6040: 1,\n",
              " 6041: 1,\n",
              " 6042: 1,\n",
              " 6045: 1,\n",
              " 6049: 2,\n",
              " 6050: 1,\n",
              " 6051: 1,\n",
              " 6055: 4,\n",
              " 6058: 1,\n",
              " 6059: 2,\n",
              " 6060: 1,\n",
              " 6065: 1,\n",
              " 6066: 1,\n",
              " 6067: 1,\n",
              " 6068: 1,\n",
              " 6069: 1,\n",
              " 6070: 1,\n",
              " 6073: 1,\n",
              " 6080: 1,\n",
              " 6081: 1,\n",
              " 6082: 1,\n",
              " 6083: 1,\n",
              " 6084: 1,\n",
              " 6085: 1,\n",
              " 6088: 2,\n",
              " 6089: 1,\n",
              " 6095: 2,\n",
              " 6096: 1,\n",
              " 6097: 2,\n",
              " 6099: 1,\n",
              " 6105: 1,\n",
              " 6106: 1,\n",
              " 6112: 2,\n",
              " 6113: 1,\n",
              " 6114: 1,\n",
              " 6115: 1,\n",
              " 6116: 1,\n",
              " 6117: 1,\n",
              " 6122: 1,\n",
              " 6127: 2,\n",
              " 6128: 1,\n",
              " 6129: 1,\n",
              " 6130: 1,\n",
              " 6131: 1,\n",
              " 6132: 1,\n",
              " 6133: 1,\n",
              " 6134: 4,\n",
              " 6139: 2,\n",
              " 6143: 1,\n",
              " 6144: 2,\n",
              " 6145: 1,\n",
              " 6146: 1,\n",
              " 6147: 1,\n",
              " 6148: 1,\n",
              " 6149: 1,\n",
              " 6154: 5,\n",
              " 6162: 3,\n",
              " 6163: 1,\n",
              " 6164: 1,\n",
              " 6165: 1,\n",
              " 6166: 1,\n",
              " 6167: 1,\n",
              " 6168: 1,\n",
              " 6169: 1,\n",
              " 6171: 1,\n",
              " 6176: 2,\n",
              " 6177: 2,\n",
              " 6153: 4,\n",
              " 6178: 1,\n",
              " 6179: 1,\n",
              " 6180: 1,\n",
              " 6183: 1,\n",
              " 6187: 1,\n",
              " 6188: 1,\n",
              " 6189: 3,\n",
              " 6190: 1,\n",
              " 6191: 1,\n",
              " 6193: 1,\n",
              " 6194: 1,\n",
              " 6195: 1,\n",
              " 6199: 2,\n",
              " 6200: 1,\n",
              " 6206: 5,\n",
              " 6207: 4,\n",
              " 6208: 2,\n",
              " 6209: 1,\n",
              " 6210: 3,\n",
              " 6211: 1,\n",
              " 6212: 1,\n",
              " 6221: 1,\n",
              " 6222: 6,\n",
              " 6120: 1,\n",
              " 6223: 1,\n",
              " 6224: 1,\n",
              " 6215: 1,\n",
              " 6226: 3,\n",
              " 6126: 1,\n",
              " 6231: 1,\n",
              " 6232: 1,\n",
              " 6233: 1,\n",
              " 6234: 1,\n",
              " 6235: 1,\n",
              " 6236: 1,\n",
              " 6237: 1,\n",
              " 6238: 1,\n",
              " 6239: 1,\n",
              " 6242: 1,\n",
              " 6245: 11,\n",
              " 6135: 6,\n",
              " 6251: 2,\n",
              " 6252: 1,\n",
              " 6253: 1,\n",
              " 6254: 1,\n",
              " 6255: 1,\n",
              " 6261: 1,\n",
              " 6262: 1,\n",
              " 6202: 8,\n",
              " 6267: 2,\n",
              " 6268: 2,\n",
              " 6269: 2,\n",
              " 6243: 1,\n",
              " 6138: 5,\n",
              " 6277: 3,\n",
              " 6278: 1,\n",
              " 6279: 1,\n",
              " 6280: 1,\n",
              " 6281: 1,\n",
              " 6282: 1,\n",
              " 6301: 1,\n",
              " 6302: 24,\n",
              " 6303: 5,\n",
              " 6305: 1,\n",
              " 6306: 9,\n",
              " 6315: 10,\n",
              " 6316: 8,\n",
              " 6317: 8,\n",
              " 6319: 9,\n",
              " 6314: 2,\n",
              " 6321: 1,\n",
              " 6324: 7,\n",
              " 6325: 6,\n",
              " 6310: 2,\n",
              " 6311: 1,\n",
              " 6327: 8,\n",
              " 6330: 8,\n",
              " 6335: 10,\n",
              " 6338: 3,\n",
              " 6340: 10,\n",
              " 6342: 5,\n",
              " 6343: 6,\n",
              " 6346: 4,\n",
              " 6345: 1,\n",
              " 6347: 5,\n",
              " 6348: 5,\n",
              " 6349: 9,\n",
              " 6350: 9,\n",
              " 6339: 1,\n",
              " 6351: 6,\n",
              " 6352: 10,\n",
              " 6354: 10,\n",
              " 6355: 10,\n",
              " 6356: 3,\n",
              " 6357: 6,\n",
              " 6358: 11,\n",
              " 6337: 1,\n",
              " 6360: 11,\n",
              " 6361: 7,\n",
              " 6364: 10,\n",
              " 6344: 1,\n",
              " 6366: 11,\n",
              " 6367: 10,\n",
              " 6368: 11,\n",
              " 6370: 10,\n",
              " 6371: 9,\n",
              " 6372: 2,\n",
              " 6373: 4,\n",
              " 6375: 1,\n",
              " 6378: 11,\n",
              " 6381: 10,\n",
              " 6384: 22,\n",
              " 6385: 8,\n",
              " 6386: 1,\n",
              " 6387: 7,\n",
              " 6388: 9,\n",
              " 6389: 8,\n",
              " 6390: 11,\n",
              " 6391: 9,\n",
              " 6392: 11,\n",
              " 6393: 2,\n",
              " 6394: 11,\n",
              " 6395: 11,\n",
              " 6396: 11,\n",
              " 6397: 10,\n",
              " 6398: 11,\n",
              " 6399: 1,\n",
              " 6400: 1,\n",
              " 6401: 8,\n",
              " 6402: 6,\n",
              " 6403: 11,\n",
              " 6404: 10,\n",
              " 6405: 9,\n",
              " 6406: 10,\n",
              " 6407: 7,\n",
              " 6408: 8,\n",
              " 6409: 15,\n",
              " 6414: 1,\n",
              " 6420: 10,\n",
              " 6422: 3,\n",
              " 6423: 9,\n",
              " 6424: 3,\n",
              " 6425: 10,\n",
              " 6426: 6,\n",
              " 6428: 6,\n",
              " 6435: 5,\n",
              " 6436: 1,\n",
              " 6440: 1,\n",
              " 6434: 3,\n",
              " 6447: 1,\n",
              " 6449: 1,\n",
              " 6453: 3,\n",
              " 6454: 9,\n",
              " 6455: 10,\n",
              " 6456: 11,\n",
              " 6459: 9,\n",
              " 6461: 11,\n",
              " 6464: 11,\n",
              " 6465: 1,\n",
              " 6466: 3,\n",
              " 6468: 11,\n",
              " 6471: 1,\n",
              " 6472: 1,\n",
              " 6477: 1,\n",
              " 6485: 5,\n",
              " 6486: 1,\n",
              " 6487: 9,\n",
              " 6488: 10,\n",
              " 6490: 8,\n",
              " 6491: 10,\n",
              " 6492: 1,\n",
              " 6493: 11,\n",
              " 6470: 3,\n",
              " 6494: 3,\n",
              " 6495: 6,\n",
              " 6496: 6,\n",
              " 6497: 8,\n",
              " 6498: 8,\n",
              " 6499: 11,\n",
              " 6500: 10,\n",
              " 6501: 4,\n",
              " 6504: 9,\n",
              " 6507: 10,\n",
              " 6508: 8,\n",
              " 6509: 17,\n",
              " 6512: 2,\n",
              " 6518: 1,\n",
              " 6476: 1,\n",
              " 6520: 1,\n",
              " 6522: 10,\n",
              " 6527: 10,\n",
              " 6529: 3,\n",
              " 6530: 8,\n",
              " 6531: 3,\n",
              " 6532: 25,\n",
              " 6533: 8,\n",
              " 6534: 5,\n",
              " 6535: 15,\n",
              " 6536: 11,\n",
              " 6537: 1,\n",
              " 6538: 1,\n",
              " 6539: 5,\n",
              " 6540: 11,\n",
              " 6541: 7,\n",
              " 6542: 5,\n",
              " 6543: 8,\n",
              " 6544: 11,\n",
              " 6545: 8,\n",
              " 6546: 7,\n",
              " 6547: 1,\n",
              " 6550: 1,\n",
              " 6557: 12,\n",
              " 6558: 10,\n",
              " 6559: 3,\n",
              " 6560: 3,\n",
              " 6561: 11,\n",
              " 6562: 1,\n",
              " 6563: 8,\n",
              " 6564: 8,\n",
              " 6565: 4,\n",
              " 6566: 8,\n",
              " 6567: 11,\n",
              " 6568: 5,\n",
              " 6569: 11,\n",
              " 6570: 1,\n",
              " 6571: 9,\n",
              " 6572: 11,\n",
              " 6573: 6,\n",
              " 6574: 4,\n",
              " 6575: 31,\n",
              " 6576: 1,\n",
              " 6577: 1,\n",
              " 6580: 1,\n",
              " 6585: 8,\n",
              " 6591: 8,\n",
              " 6592: 4,\n",
              " 6593: 7,\n",
              " 6594: 5,\n",
              " 6595: 2,\n",
              " 6596: 6,\n",
              " 6597: 2,\n",
              " 6598: 25,\n",
              " 6599: 27,\n",
              " 6600: 10,\n",
              " 6601: 11,\n",
              " 6602: 1,\n",
              " 6603: 21,\n",
              " 6604: 5,\n",
              " 6605: 3,\n",
              " 6606: 6,\n",
              " 6607: 7,\n",
              " 6608: 1,\n",
              " 6609: 1,\n",
              " 6612: 8,\n",
              " 6613: 6,\n",
              " 6614: 2,\n",
              " 6618: 21,\n",
              " 6621: 1,\n",
              " 6622: 24,\n",
              " 6623: 1,\n",
              " 6624: 1,\n",
              " 6625: 4,\n",
              " 6626: 4,\n",
              " 6627: 6,\n",
              " 6628: 10,\n",
              " 6629: 7,\n",
              " 6630: 11,\n",
              " 6631: 10,\n",
              " 6632: 9,\n",
              " 6633: 11,\n",
              " 6634: 8,\n",
              " 6635: 11,\n",
              " 6636: 10,\n",
              " 6637: 10,\n",
              " 6638: 11,\n",
              " 6639: 10,\n",
              " 6640: 8,\n",
              " 6641: 8,\n",
              " 6642: 11,\n",
              " 6643: 8,\n",
              " 6644: 2,\n",
              " 6645: 11,\n",
              " 6646: 2,\n",
              " 6647: 11,\n",
              " 6648: 1,\n",
              " 6649: 8,\n",
              " 6650: 1,\n",
              " 6651: 2,\n",
              " 6652: 1,\n",
              " 6653: 8,\n",
              " 6654: 2,\n",
              " 6655: 23,\n",
              " 6661: 7,\n",
              " 6664: 10,\n",
              " 6665: 6,\n",
              " 6666: 26,\n",
              " 6667: 15,\n",
              " 6668: 10,\n",
              " 6669: 8,\n",
              " 6670: 1,\n",
              " 6671: 11,\n",
              " 6672: 10,\n",
              " 6673: 9,\n",
              " 6674: 9,\n",
              " 6675: 8,\n",
              " 6676: 1,\n",
              " 6677: 12,\n",
              " 6678: 2,\n",
              " 6679: 2,\n",
              " 6680: 5,\n",
              " 6681: 10,\n",
              " 6682: 11,\n",
              " 6683: 4,\n",
              " 6684: 4,\n",
              " 6685: 5,\n",
              " 6686: 4,\n",
              " 6687: 10,\n",
              " 6688: 11,\n",
              " 6689: 6,\n",
              " 6690: 1,\n",
              " 6691: 5,\n",
              " 6692: 8,\n",
              " 6693: 3,\n",
              " 6694: 4,\n",
              " 6695: 6,\n",
              " 6696: 5,\n",
              " 6697: 3,\n",
              " 6698: 6,\n",
              " 6699: 6,\n",
              " 6700: 5,\n",
              " 6701: 1,\n",
              " 6702: 1,\n",
              " 6703: 9,\n",
              " 6705: 11,\n",
              " 6706: 11,\n",
              " 6708: 11,\n",
              " 6709: 11,\n",
              " 6710: 11,\n",
              " 6711: 1,\n",
              " 6712: 5,\n",
              " 6714: 2,\n",
              " 6715: 11,\n",
              " 6719: 2,\n",
              " 6720: 11,\n",
              " 6721: 4,\n",
              " 6722: 1,\n",
              " 6723: 1,\n",
              " 6724: 1,\n",
              " 6725: 11,\n",
              " 6726: 1,\n",
              " 6727: 1,\n",
              " 6730: 11,\n",
              " 6731: 6,\n",
              " 6732: 1,\n",
              " 6733: 8,\n",
              " 6737: 3,\n",
              " 6741: 4,\n",
              " 6742: 1,\n",
              " 6743: 1,\n",
              " 6744: 3,\n",
              " 6746: 3,\n",
              " 6747: 33,\n",
              " 6748: 1,\n",
              " 6749: 26,\n",
              " 6750: 1,\n",
              " 6752: 1,\n",
              " 6753: 6,\n",
              " 6754: 7,\n",
              " 6760: 8,\n",
              " 6762: 8,\n",
              " 6764: 1,\n",
              " 6765: 1,\n",
              " 6766: 10,\n",
              " 6767: 1,\n",
              " 6768: 7,\n",
              " 6769: 3,\n",
              " 6770: 19,\n",
              " 6771: 8,\n",
              " 6772: 5,\n",
              " 6773: 1,\n",
              " 6774: 8,\n",
              " 6775: 10,\n",
              " 6776: 2,\n",
              " 6777: 9,\n",
              " 6778: 33,\n",
              " 6779: 16,\n",
              " 6780: 17,\n",
              " 6781: 10,\n",
              " 6782: 1,\n",
              " 6783: 10,\n",
              " 6784: 11,\n",
              " 6785: 11,\n",
              " 6786: 7,\n",
              " 6787: 7,\n",
              " 6788: 10,\n",
              " 6789: 11,\n",
              " 6790: 8,\n",
              " 6791: 9,\n",
              " 6792: 11,\n",
              " 6794: 11,\n",
              " 6795: 7,\n",
              " 6796: 5,\n",
              " 6797: 2,\n",
              " 6798: 7,\n",
              " 6799: 11,\n",
              " 6800: 11,\n",
              " 6801: 6,\n",
              " 6802: 11,\n",
              " 6803: 11,\n",
              " 6804: 11,\n",
              " 6805: 10,\n",
              " 6806: 31,\n",
              " 6807: 11,\n",
              " 6808: 11,\n",
              " 6809: 10,\n",
              " 6810: 2,\n",
              " 6811: 10,\n",
              " 6812: 8,\n",
              " 6813: 9,\n",
              " 6814: 9,\n",
              " 6815: 1,\n",
              " 6816: 8,\n",
              " 6817: 2,\n",
              " 6818: 1,\n",
              " 6821: 11,\n",
              " 6822: 1,\n",
              " 6823: 9,\n",
              " 6824: 11,\n",
              " 6826: 11,\n",
              " 6828: 10,\n",
              " 6835: 3,\n",
              " 6836: 22,\n",
              " 6837: 8,\n",
              " 6838: 1,\n",
              " 6839: 1,\n",
              " 6840: 1,\n",
              " 6841: 4,\n",
              " 6842: 1,\n",
              " 6843: 11,\n",
              " 6844: 2,\n",
              " 6845: 8,\n",
              " 6846: 11,\n",
              " 6847: 1,\n",
              " 6848: 10,\n",
              " 6849: 9,\n",
              " 6850: 1,\n",
              " 6851: 10,\n",
              " 6852: 28,\n",
              " 6825: 5,\n",
              " 6853: 11,\n",
              " 6854: 11,\n",
              " 6859: 9,\n",
              " 6860: 7,\n",
              " 6862: 2,\n",
              " 6863: 3,\n",
              " 6864: 3,\n",
              " 6865: 1,\n",
              " 6866: 2,\n",
              " 6867: 1,\n",
              " 6868: 3,\n",
              " 6869: 4,\n",
              " 6870: 26,\n",
              " 6871: 36,\n",
              " 6872: 4,\n",
              " 6873: 33,\n",
              " 6874: 1,\n",
              " 6875: 10,\n",
              " 6876: 26,\n",
              " 6877: 1,\n",
              " 6878: 10,\n",
              " 6879: 11,\n",
              " 6880: 1,\n",
              " 6881: 9,\n",
              " 6882: 11,\n",
              " 6883: 13,\n",
              " 6884: 8,\n",
              " 6885: 1,\n",
              " 6886: 5,\n",
              " 6887: 1,\n",
              " 6888: 9,\n",
              " 6889: 9,\n",
              " 6890: 7,\n",
              " 6891: 1,\n",
              " 6892: 2,\n",
              " 6893: 4,\n",
              " 6894: 7,\n",
              " 6895: 9,\n",
              " 6896: 1,\n",
              " 6897: 8,\n",
              " 6904: 16,\n",
              " 6905: 10,\n",
              " 6906: 9,\n",
              " 6907: 7,\n",
              " 6908: 9,\n",
              " 6909: 7,\n",
              " 6910: 9,\n",
              " 6911: 9,\n",
              " 6912: 5,\n",
              " 6913: 5,\n",
              " 6914: 5,\n",
              " 6915: 1,\n",
              " 6916: 11,\n",
              " 6917: 11,\n",
              " 6918: 10,\n",
              " 6919: 11,\n",
              " 6920: 6,\n",
              " 6921: 3,\n",
              " 6922: 9,\n",
              " 6923: 19,\n",
              " 6924: 9,\n",
              " 6925: 11,\n",
              " 6926: 8,\n",
              " 6927: 6,\n",
              " 6928: 10,\n",
              " 6929: 7,\n",
              " 6930: 6,\n",
              " 6931: 10,\n",
              " 6932: 1,\n",
              " 6933: 6,\n",
              " 6934: 11,\n",
              " 6935: 1,\n",
              " 6936: 1,\n",
              " 6937: 8,\n",
              " 6938: 1,\n",
              " 6939: 1,\n",
              " 6943: 1,\n",
              " 6944: 1,\n",
              " 6947: 10,\n",
              " 6948: 30,\n",
              " 6949: 8,\n",
              " 6950: 4,\n",
              " 6951: 1,\n",
              " 6952: 25,\n",
              " 6953: 8,\n",
              " 6954: 1,\n",
              " 6955: 4,\n",
              " 6956: 5,\n",
              " 6957: 9,\n",
              " 6958: 1,\n",
              " 6959: 6,\n",
              " 6965: 11,\n",
              " 6966: 1,\n",
              " 6967: 1,\n",
              " 6968: 6,\n",
              " 6969: 7,\n",
              " 6970: 6,\n",
              " 6971: 10,\n",
              " 6972: 41,\n",
              " 6973: 11,\n",
              " 6974: 5,\n",
              " 6975: 4,\n",
              " 6976: 8,\n",
              " 6977: 11,\n",
              " 6978: 1,\n",
              " 6979: 2,\n",
              " 6980: 9,\n",
              " 6981: 11,\n",
              " 6982: 2,\n",
              " 6983: 13,\n",
              " 6984: 10,\n",
              " 6985: 14,\n",
              " 6986: 11,\n",
              " 6987: 11,\n",
              " 6988: 11,\n",
              " 6989: 11,\n",
              " 6990: 7,\n",
              " 6992: 1,\n",
              " 6993: 1,\n",
              " 6994: 3,\n",
              " 6995: 11,\n",
              " 6996: 3,\n",
              " 6997: 11,\n",
              " 6998: 11,\n",
              " 6999: 1,\n",
              " 7000: 1,\n",
              " 7001: 19,\n",
              " 7002: 2,\n",
              " 7003: 11,\n",
              " 7004: 1,\n",
              " 7005: 1,\n",
              " 7006: 1,\n",
              " 7007: 18,\n",
              " 7010: 10,\n",
              " 7015: 1,\n",
              " 7016: 2,\n",
              " 7017: 1,\n",
              " 7018: 32,\n",
              " 7019: 7,\n",
              " 7020: 7,\n",
              " 7021: 3,\n",
              " 7022: 10,\n",
              " 7023: 8,\n",
              " 7024: 11,\n",
              " 7025: 10,\n",
              " 7026: 3,\n",
              " 7027: 11,\n",
              " 7028: 28,\n",
              " 7029: 20,\n",
              " 7030: 11,\n",
              " 7031: 11,\n",
              " 7032: 5,\n",
              " 7033: 6,\n",
              " 7034: 10,\n",
              " 7035: 10,\n",
              " 7036: 1,\n",
              " 7037: 8,\n",
              " 7045: 21,\n",
              " 7046: 17,\n",
              " 7047: 1,\n",
              " 7048: 8,\n",
              " 7049: 11,\n",
              " 7050: 19,\n",
              " 7051: 8,\n",
              " 7052: 10,\n",
              " 7053: 9,\n",
              " 7054: 1,\n",
              " 7055: 11,\n",
              " 7056: 11,\n",
              " 7057: 1,\n",
              " 7058: 2,\n",
              " 7059: 8,\n",
              " 7060: 11,\n",
              " 7061: 9,\n",
              " 7062: 11,\n",
              " 7063: 7,\n",
              " 7064: 9,\n",
              " 7065: 10,\n",
              " 7066: 9,\n",
              " 7067: 9,\n",
              " 7068: 8,\n",
              " 7069: 2,\n",
              " 7070: 6,\n",
              " 7071: 10,\n",
              " 7072: 6,\n",
              " 7073: 19,\n",
              " 7074: 9,\n",
              " 7075: 9,\n",
              " 7076: 8,\n",
              " 7077: 10,\n",
              " 7078: 5,\n",
              " 7079: 3,\n",
              " 7083: 2,\n",
              " 7082: 3,\n",
              " 7091: 1,\n",
              " 7095: 11,\n",
              " 7096: 1,\n",
              " 7097: 8,\n",
              " 7098: 1,\n",
              " 7099: 1,\n",
              " 7100: 5,\n",
              " 7101: 9,\n",
              " 7102: 1,\n",
              " 7103: 11,\n",
              " 7104: 1,\n",
              " 7105: 11,\n",
              " 7106: 1,\n",
              " 7108: 10,\n",
              " 7107: 9,\n",
              " 7109: 40,\n",
              " 7110: 35,\n",
              " 7111: 1,\n",
              " 7112: 3,\n",
              " 7113: 8,\n",
              " 7114: 1,\n",
              " 7115: 4,\n",
              " 7120: 2,\n",
              " 7121: 8,\n",
              " 7122: 11,\n",
              " 7123: 8,\n",
              " 7124: 6,\n",
              " 7125: 10,\n",
              " 7126: 10,\n",
              " 7127: 9,\n",
              " 7128: 10,\n",
              " 7129: 19,\n",
              " 7130: 11,\n",
              " 7131: 37,\n",
              " 7132: 24,\n",
              " 7133: 1,\n",
              " 7135: 1,\n",
              " 7136: 10,\n",
              " 7137: 6,\n",
              " 7138: 11,\n",
              " 7139: 11,\n",
              " 7140: 5,\n",
              " 7141: 6,\n",
              " 7142: 11,\n",
              " 7143: 1,\n",
              " 7144: 23,\n",
              " 7145: 1,\n",
              " 7146: 2,\n",
              " 7147: 1,\n",
              " 7148: 1,\n",
              " 7149: 16,\n",
              " 7150: 7,\n",
              " 7151: 11,\n",
              " 7152: 1,\n",
              " 7158: 6,\n",
              " 7159: 18,\n",
              " 7160: 13,\n",
              " 7161: 1,\n",
              " 7162: 44,\n",
              " 7163: 23,\n",
              " 7164: 7,\n",
              " 7165: 2,\n",
              " 7166: 8,\n",
              " 7167: 9,\n",
              " 7168: 14,\n",
              " 7169: 4,\n",
              " 7170: 7,\n",
              " 7171: 8,\n",
              " 7172: 6,\n",
              " 7173: 10,\n",
              " 7175: 6,\n",
              " 7176: 16,\n",
              " 7177: 11,\n",
              " 7178: 11,\n",
              " 7179: 8,\n",
              " 7180: 9,\n",
              " 7181: 1,\n",
              " 7184: 1,\n",
              " 7188: 1,\n",
              " 7189: 4,\n",
              " 7190: 2,\n",
              " 7192: 1,\n",
              " 7193: 1,\n",
              " 7194: 1,\n",
              " 7196: 1,\n",
              " 7199: 1,\n",
              " 7200: 2,\n",
              " 7201: 2,\n",
              " 7206: 3,\n",
              " 7207: 1,\n",
              " 7208: 4,\n",
              " 7209: 10,\n",
              " 7210: 1,\n",
              " 7211: 3,\n",
              " 7212: 11,\n",
              " 7213: 2,\n",
              " 7214: 8,\n",
              " 7215: 18,\n",
              " 7216: 1,\n",
              " 7217: 20,\n",
              " 7218: 10,\n",
              " 7219: 10,\n",
              " 7220: 10,\n",
              " 7221: 10,\n",
              " 7222: 11,\n",
              " 7223: 1,\n",
              " 7226: 1,\n",
              " 7229: 11,\n",
              " 7230: 13,\n",
              " 7231: 21,\n",
              " 7232: 45,\n",
              " 7233: 26,\n",
              " 7234: 1,\n",
              " 7235: 9,\n",
              " 7236: 10,\n",
              " 7237: 8,\n",
              " 7238: 9,\n",
              " 7239: 9,\n",
              " 7240: 11,\n",
              " 7241: 10,\n",
              " 7242: 4,\n",
              " 7243: 2,\n",
              " 7244: 28,\n",
              " 7245: 11,\n",
              " 7246: 9,\n",
              " 7247: 11,\n",
              " 7248: 11,\n",
              " 7249: 1,\n",
              " 7250: 20,\n",
              " 7251: 11,\n",
              " 7252: 4,\n",
              " 7253: 2,\n",
              " 7254: 10,\n",
              " 7255: 1,\n",
              " 7256: 10,\n",
              " 7257: 10,\n",
              " 7258: 13,\n",
              " 7259: 9,\n",
              " 7260: 11,\n",
              " 7261: 11,\n",
              " 7262: 9,\n",
              " 7263: 6,\n",
              " 7264: 9,\n",
              " 7265: 8,\n",
              " 7266: 8,\n",
              " ...}"
            ]
          },
          "metadata": {
            "tags": []
          },
          "execution_count": 13
        }
      ]
    },
    {
      "cell_type": "code",
      "metadata": {
        "id": "dnYmFR-UAHEg"
      },
      "source": [
        "df_processed = df2.drop(['seat_number', 'payment_method', 'payment_receipt', 'travel_to'], axis=1)"
      ],
      "execution_count": null,
      "outputs": []
    },
    {
      "cell_type": "code",
      "metadata": {
        "id": "xXAWKyhoAQr9"
      },
      "source": [
        "df_processed.drop_duplicates(inplace=True)\n",
        "df_processed.reset_index(drop= True, inplace=True)"
      ],
      "execution_count": null,
      "outputs": []
    },
    {
      "cell_type": "code",
      "metadata": {
        "id": "jaW3GWqyAYSn"
      },
      "source": [
        "df_processed[\"number_of_tickets\"]= np.zeros(len(df_processed))"
      ],
      "execution_count": null,
      "outputs": []
    },
    {
      "cell_type": "code",
      "metadata": {
        "id": "yNQ0c5etAdEa"
      },
      "source": [
        "for i in range(len(df_processed)):\n",
        "    ride_id = df_processed.loc[i][\"ride_id\"]\n",
        "    df_processed.at[i,\"number_of_tickets\"] = ride_id_dict[ride_id]"
      ],
      "execution_count": null,
      "outputs": []
    },
    {
      "cell_type": "code",
      "metadata": {
        "colab": {
          "base_uri": "https://localhost:8080/",
          "height": 204
        },
        "id": "5HzQuDmYAyNf",
        "outputId": "7a2ad3ce-e2c1-4e3e-efa6-3df05f3fb70c"
      },
      "source": [
        "df_processed.head()"
      ],
      "execution_count": null,
      "outputs": [
        {
          "output_type": "execute_result",
          "data": {
            "text/html": [
              "<div>\n",
              "<style scoped>\n",
              "    .dataframe tbody tr th:only-of-type {\n",
              "        vertical-align: middle;\n",
              "    }\n",
              "\n",
              "    .dataframe tbody tr th {\n",
              "        vertical-align: top;\n",
              "    }\n",
              "\n",
              "    .dataframe thead th {\n",
              "        text-align: right;\n",
              "    }\n",
              "</style>\n",
              "<table border=\"1\" class=\"dataframe\">\n",
              "  <thead>\n",
              "    <tr style=\"text-align: right;\">\n",
              "      <th></th>\n",
              "      <th>ride_id</th>\n",
              "      <th>travel_date</th>\n",
              "      <th>travel_time</th>\n",
              "      <th>travel_from</th>\n",
              "      <th>car_type</th>\n",
              "      <th>max_capacity</th>\n",
              "      <th>number_of_tickets</th>\n",
              "    </tr>\n",
              "  </thead>\n",
              "  <tbody>\n",
              "    <tr>\n",
              "      <th>0</th>\n",
              "      <td>1442</td>\n",
              "      <td>17-10-17</td>\n",
              "      <td>7:15</td>\n",
              "      <td>Migori</td>\n",
              "      <td>Bus</td>\n",
              "      <td>49</td>\n",
              "      <td>1.0</td>\n",
              "    </tr>\n",
              "    <tr>\n",
              "      <th>1</th>\n",
              "      <td>5437</td>\n",
              "      <td>19-11-17</td>\n",
              "      <td>7:12</td>\n",
              "      <td>Migori</td>\n",
              "      <td>Bus</td>\n",
              "      <td>49</td>\n",
              "      <td>1.0</td>\n",
              "    </tr>\n",
              "    <tr>\n",
              "      <th>2</th>\n",
              "      <td>5710</td>\n",
              "      <td>26-11-17</td>\n",
              "      <td>7:05</td>\n",
              "      <td>Keroka</td>\n",
              "      <td>Bus</td>\n",
              "      <td>49</td>\n",
              "      <td>1.0</td>\n",
              "    </tr>\n",
              "    <tr>\n",
              "      <th>3</th>\n",
              "      <td>5777</td>\n",
              "      <td>27-11-17</td>\n",
              "      <td>7:10</td>\n",
              "      <td>Homa Bay</td>\n",
              "      <td>Bus</td>\n",
              "      <td>49</td>\n",
              "      <td>5.0</td>\n",
              "    </tr>\n",
              "    <tr>\n",
              "      <th>4</th>\n",
              "      <td>5778</td>\n",
              "      <td>27-11-17</td>\n",
              "      <td>7:12</td>\n",
              "      <td>Migori</td>\n",
              "      <td>Bus</td>\n",
              "      <td>49</td>\n",
              "      <td>31.0</td>\n",
              "    </tr>\n",
              "  </tbody>\n",
              "</table>\n",
              "</div>"
            ],
            "text/plain": [
              "   ride_id travel_date travel_time  ... car_type max_capacity  number_of_tickets\n",
              "0     1442    17-10-17        7:15  ...      Bus           49                1.0\n",
              "1     5437    19-11-17        7:12  ...      Bus           49                1.0\n",
              "2     5710    26-11-17        7:05  ...      Bus           49                1.0\n",
              "3     5777    27-11-17        7:10  ...      Bus           49                5.0\n",
              "4     5778    27-11-17        7:12  ...      Bus           49               31.0\n",
              "\n",
              "[5 rows x 7 columns]"
            ]
          },
          "metadata": {
            "tags": []
          },
          "execution_count": 18
        }
      ]
    },
    {
      "cell_type": "code",
      "metadata": {
        "id": "KMI4gc8TA_8R"
      },
      "source": [
        "import numpy as np\n",
        "import pandas as pd\n",
        "from sklearn.model_selection import train_test_split\n",
        "from sklearn.linear_model import LinearRegression\n",
        "from sklearn.metrics import r2_score\n",
        "from sklearn.metrics import mean_squared_error\n",
        "from sklearn.metrics import mean_absolute_error\n",
        "from sklearn.metrics import mean_absolute_error, mean_squared_error, explained_variance_score\n",
        "from sklearn.metrics import roc_auc_score\n",
        "import datetime as dt\n",
        "import matplotlib.pyplot as plt"
      ],
      "execution_count": null,
      "outputs": []
    },
    {
      "cell_type": "code",
      "metadata": {
        "colab": {
          "base_uri": "https://localhost:8080/",
          "height": 204
        },
        "id": "cft_xyG1BiCM",
        "outputId": "90299386-9468-469a-8d75-cbd5a08d44d0"
      },
      "source": [
        "df_processed.head()"
      ],
      "execution_count": null,
      "outputs": [
        {
          "output_type": "execute_result",
          "data": {
            "text/html": [
              "<div>\n",
              "<style scoped>\n",
              "    .dataframe tbody tr th:only-of-type {\n",
              "        vertical-align: middle;\n",
              "    }\n",
              "\n",
              "    .dataframe tbody tr th {\n",
              "        vertical-align: top;\n",
              "    }\n",
              "\n",
              "    .dataframe thead th {\n",
              "        text-align: right;\n",
              "    }\n",
              "</style>\n",
              "<table border=\"1\" class=\"dataframe\">\n",
              "  <thead>\n",
              "    <tr style=\"text-align: right;\">\n",
              "      <th></th>\n",
              "      <th>ride_id</th>\n",
              "      <th>travel_date</th>\n",
              "      <th>travel_time</th>\n",
              "      <th>travel_from</th>\n",
              "      <th>car_type</th>\n",
              "      <th>max_capacity</th>\n",
              "      <th>number_of_tickets</th>\n",
              "    </tr>\n",
              "  </thead>\n",
              "  <tbody>\n",
              "    <tr>\n",
              "      <th>0</th>\n",
              "      <td>1442</td>\n",
              "      <td>17-10-17</td>\n",
              "      <td>7:15</td>\n",
              "      <td>Migori</td>\n",
              "      <td>Bus</td>\n",
              "      <td>49</td>\n",
              "      <td>1.0</td>\n",
              "    </tr>\n",
              "    <tr>\n",
              "      <th>1</th>\n",
              "      <td>5437</td>\n",
              "      <td>19-11-17</td>\n",
              "      <td>7:12</td>\n",
              "      <td>Migori</td>\n",
              "      <td>Bus</td>\n",
              "      <td>49</td>\n",
              "      <td>1.0</td>\n",
              "    </tr>\n",
              "    <tr>\n",
              "      <th>2</th>\n",
              "      <td>5710</td>\n",
              "      <td>26-11-17</td>\n",
              "      <td>7:05</td>\n",
              "      <td>Keroka</td>\n",
              "      <td>Bus</td>\n",
              "      <td>49</td>\n",
              "      <td>1.0</td>\n",
              "    </tr>\n",
              "    <tr>\n",
              "      <th>3</th>\n",
              "      <td>5777</td>\n",
              "      <td>27-11-17</td>\n",
              "      <td>7:10</td>\n",
              "      <td>Homa Bay</td>\n",
              "      <td>Bus</td>\n",
              "      <td>49</td>\n",
              "      <td>5.0</td>\n",
              "    </tr>\n",
              "    <tr>\n",
              "      <th>4</th>\n",
              "      <td>5778</td>\n",
              "      <td>27-11-17</td>\n",
              "      <td>7:12</td>\n",
              "      <td>Migori</td>\n",
              "      <td>Bus</td>\n",
              "      <td>49</td>\n",
              "      <td>31.0</td>\n",
              "    </tr>\n",
              "  </tbody>\n",
              "</table>\n",
              "</div>"
            ],
            "text/plain": [
              "   ride_id travel_date travel_time  ... car_type max_capacity  number_of_tickets\n",
              "0     1442    17-10-17        7:15  ...      Bus           49                1.0\n",
              "1     5437    19-11-17        7:12  ...      Bus           49                1.0\n",
              "2     5710    26-11-17        7:05  ...      Bus           49                1.0\n",
              "3     5777    27-11-17        7:10  ...      Bus           49                5.0\n",
              "4     5778    27-11-17        7:12  ...      Bus           49               31.0\n",
              "\n",
              "[5 rows x 7 columns]"
            ]
          },
          "metadata": {
            "tags": []
          },
          "execution_count": 22
        }
      ]
    },
    {
      "cell_type": "code",
      "metadata": {
        "colab": {
          "base_uri": "https://localhost:8080/",
          "height": 297
        },
        "id": "xD8OFsf3BZZm",
        "outputId": "1d0f9b90-b0c0-4ad7-ec12-266d2bae7838"
      },
      "source": [
        "df_processed.describe()"
      ],
      "execution_count": null,
      "outputs": [
        {
          "output_type": "execute_result",
          "data": {
            "text/html": [
              "<div>\n",
              "<style scoped>\n",
              "    .dataframe tbody tr th:only-of-type {\n",
              "        vertical-align: middle;\n",
              "    }\n",
              "\n",
              "    .dataframe tbody tr th {\n",
              "        vertical-align: top;\n",
              "    }\n",
              "\n",
              "    .dataframe thead th {\n",
              "        text-align: right;\n",
              "    }\n",
              "</style>\n",
              "<table border=\"1\" class=\"dataframe\">\n",
              "  <thead>\n",
              "    <tr style=\"text-align: right;\">\n",
              "      <th></th>\n",
              "      <th>ride_id</th>\n",
              "      <th>max_capacity</th>\n",
              "      <th>number_of_tickets</th>\n",
              "    </tr>\n",
              "  </thead>\n",
              "  <tbody>\n",
              "    <tr>\n",
              "      <th>count</th>\n",
              "      <td>6249.000000</td>\n",
              "      <td>6249.000000</td>\n",
              "      <td>6249.000000</td>\n",
              "    </tr>\n",
              "    <tr>\n",
              "      <th>mean</th>\n",
              "      <td>9963.644583</td>\n",
              "      <td>30.392223</td>\n",
              "      <td>8.264522</td>\n",
              "    </tr>\n",
              "    <tr>\n",
              "      <th>std</th>\n",
              "      <td>2296.304872</td>\n",
              "      <td>18.997471</td>\n",
              "      <td>8.632968</td>\n",
              "    </tr>\n",
              "    <tr>\n",
              "      <th>min</th>\n",
              "      <td>1442.000000</td>\n",
              "      <td>11.000000</td>\n",
              "      <td>1.000000</td>\n",
              "    </tr>\n",
              "    <tr>\n",
              "      <th>25%</th>\n",
              "      <td>7989.000000</td>\n",
              "      <td>11.000000</td>\n",
              "      <td>2.000000</td>\n",
              "    </tr>\n",
              "    <tr>\n",
              "      <th>50%</th>\n",
              "      <td>10024.000000</td>\n",
              "      <td>49.000000</td>\n",
              "      <td>7.000000</td>\n",
              "    </tr>\n",
              "    <tr>\n",
              "      <th>75%</th>\n",
              "      <td>11917.000000</td>\n",
              "      <td>49.000000</td>\n",
              "      <td>11.000000</td>\n",
              "    </tr>\n",
              "    <tr>\n",
              "      <th>max</th>\n",
              "      <td>20117.000000</td>\n",
              "      <td>49.000000</td>\n",
              "      <td>50.000000</td>\n",
              "    </tr>\n",
              "  </tbody>\n",
              "</table>\n",
              "</div>"
            ],
            "text/plain": [
              "            ride_id  max_capacity  number_of_tickets\n",
              "count   6249.000000   6249.000000        6249.000000\n",
              "mean    9963.644583     30.392223           8.264522\n",
              "std     2296.304872     18.997471           8.632968\n",
              "min     1442.000000     11.000000           1.000000\n",
              "25%     7989.000000     11.000000           2.000000\n",
              "50%    10024.000000     49.000000           7.000000\n",
              "75%    11917.000000     49.000000          11.000000\n",
              "max    20117.000000     49.000000          50.000000"
            ]
          },
          "metadata": {
            "tags": []
          },
          "execution_count": 23
        }
      ]
    },
    {
      "cell_type": "code",
      "metadata": {
        "id": "pV-mfD50BeG8"
      },
      "source": [
        "# df_train_set.drop(['ride_id'], axis=1, inplace=True) #ride_id is unnecessary in training set"
      ],
      "execution_count": null,
      "outputs": []
    },
    {
      "cell_type": "code",
      "metadata": {
        "id": "mZ3I9ti5By_F"
      },
      "source": [
        "df_processed[\"travel_date\"] = pd.to_datetime(df_processed[\"travel_date\"],infer_datetime_format=True)\n",
        "df_processed['travel_month'] = df_processed.travel_date.dt.month\n",
        "df_processed['travel_dayof_year'] = df_processed.travel_date.dt.dayofyear\n",
        "df_processed[\"travel_date\"] = df_processed[\"travel_date\"].dt.dayofweek \n",
        "#remember change the full date to day of week\n",
        "#add travel season eg rainny,dry etc, school going season"
      ],
      "execution_count": null,
      "outputs": []
    },
    {
      "cell_type": "code",
      "metadata": {
        "id": "VqLVApaRCQS2"
      },
      "source": [
        "df_processed[\"car_type\"] = pd.Categorical(df_processed[\"car_type\"])\n",
        "car_type_categories = df_processed.car_type.cat.categories\n",
        "df_processed[\"car_type\"] = df_processed.car_type.cat.codes"
      ],
      "execution_count": null,
      "outputs": []
    },
    {
      "cell_type": "code",
      "metadata": {
        "id": "C_3tuK2rCm-k"
      },
      "source": [
        "df_processed[\"travel_from\"] = pd.Categorical(df_processed[\"travel_from\"])\n",
        "travel_from_categories = df_processed.travel_from.cat.categories\n",
        "df_processed[\"travel_from\"] = df_processed.travel_from.cat.codes"
      ],
      "execution_count": null,
      "outputs": []
    },
    {
      "cell_type": "code",
      "metadata": {
        "id": "OlR2tzyADCFE"
      },
      "source": [
        "#express travel time in minutes\n",
        "df_processed[\"travel_time\"] = df_processed[\"travel_time\"].str.split(':').apply(lambda x: int(x[0]) * 60 + int(x[1]))"
      ],
      "execution_count": null,
      "outputs": []
    },
    {
      "cell_type": "code",
      "metadata": {
        "colab": {
          "base_uri": "https://localhost:8080/",
          "height": 328
        },
        "id": "nSl4FxJSDLli",
        "outputId": "d5885c28-6127-4de3-ac79-a2b08e571253"
      },
      "source": [
        "df_processed.corr()"
      ],
      "execution_count": null,
      "outputs": [
        {
          "output_type": "execute_result",
          "data": {
            "text/html": [
              "<div>\n",
              "<style scoped>\n",
              "    .dataframe tbody tr th:only-of-type {\n",
              "        vertical-align: middle;\n",
              "    }\n",
              "\n",
              "    .dataframe tbody tr th {\n",
              "        vertical-align: top;\n",
              "    }\n",
              "\n",
              "    .dataframe thead th {\n",
              "        text-align: right;\n",
              "    }\n",
              "</style>\n",
              "<table border=\"1\" class=\"dataframe\">\n",
              "  <thead>\n",
              "    <tr style=\"text-align: right;\">\n",
              "      <th></th>\n",
              "      <th>ride_id</th>\n",
              "      <th>travel_date</th>\n",
              "      <th>travel_time</th>\n",
              "      <th>travel_from</th>\n",
              "      <th>car_type</th>\n",
              "      <th>max_capacity</th>\n",
              "      <th>number_of_tickets</th>\n",
              "      <th>travel_month</th>\n",
              "      <th>travel_dayof_year</th>\n",
              "    </tr>\n",
              "  </thead>\n",
              "  <tbody>\n",
              "    <tr>\n",
              "      <th>ride_id</th>\n",
              "      <td>1.000000</td>\n",
              "      <td>0.016338</td>\n",
              "      <td>0.103864</td>\n",
              "      <td>0.065618</td>\n",
              "      <td>-0.257885</td>\n",
              "      <td>0.257885</td>\n",
              "      <td>0.093817</td>\n",
              "      <td>0.029872</td>\n",
              "      <td>0.033685</td>\n",
              "    </tr>\n",
              "    <tr>\n",
              "      <th>travel_date</th>\n",
              "      <td>0.016338</td>\n",
              "      <td>1.000000</td>\n",
              "      <td>0.022232</td>\n",
              "      <td>0.007310</td>\n",
              "      <td>-0.030175</td>\n",
              "      <td>0.030175</td>\n",
              "      <td>0.001035</td>\n",
              "      <td>0.031918</td>\n",
              "      <td>0.028249</td>\n",
              "    </tr>\n",
              "    <tr>\n",
              "      <th>travel_time</th>\n",
              "      <td>0.103864</td>\n",
              "      <td>0.022232</td>\n",
              "      <td>1.000000</td>\n",
              "      <td>0.145781</td>\n",
              "      <td>-0.019499</td>\n",
              "      <td>0.019499</td>\n",
              "      <td>0.205832</td>\n",
              "      <td>0.041282</td>\n",
              "      <td>0.040311</td>\n",
              "    </tr>\n",
              "    <tr>\n",
              "      <th>travel_from</th>\n",
              "      <td>0.065618</td>\n",
              "      <td>0.007310</td>\n",
              "      <td>0.145781</td>\n",
              "      <td>1.000000</td>\n",
              "      <td>-0.203815</td>\n",
              "      <td>0.203815</td>\n",
              "      <td>-0.027875</td>\n",
              "      <td>-0.024963</td>\n",
              "      <td>-0.025947</td>\n",
              "    </tr>\n",
              "    <tr>\n",
              "      <th>car_type</th>\n",
              "      <td>-0.257885</td>\n",
              "      <td>-0.030175</td>\n",
              "      <td>-0.019499</td>\n",
              "      <td>-0.203815</td>\n",
              "      <td>1.000000</td>\n",
              "      <td>-1.000000</td>\n",
              "      <td>-0.208762</td>\n",
              "      <td>0.085932</td>\n",
              "      <td>0.086896</td>\n",
              "    </tr>\n",
              "    <tr>\n",
              "      <th>max_capacity</th>\n",
              "      <td>0.257885</td>\n",
              "      <td>0.030175</td>\n",
              "      <td>0.019499</td>\n",
              "      <td>0.203815</td>\n",
              "      <td>-1.000000</td>\n",
              "      <td>1.000000</td>\n",
              "      <td>0.208762</td>\n",
              "      <td>-0.085932</td>\n",
              "      <td>-0.086896</td>\n",
              "    </tr>\n",
              "    <tr>\n",
              "      <th>number_of_tickets</th>\n",
              "      <td>0.093817</td>\n",
              "      <td>0.001035</td>\n",
              "      <td>0.205832</td>\n",
              "      <td>-0.027875</td>\n",
              "      <td>-0.208762</td>\n",
              "      <td>0.208762</td>\n",
              "      <td>1.000000</td>\n",
              "      <td>0.030389</td>\n",
              "      <td>0.028571</td>\n",
              "    </tr>\n",
              "    <tr>\n",
              "      <th>travel_month</th>\n",
              "      <td>0.029872</td>\n",
              "      <td>0.031918</td>\n",
              "      <td>0.041282</td>\n",
              "      <td>-0.024963</td>\n",
              "      <td>0.085932</td>\n",
              "      <td>-0.085932</td>\n",
              "      <td>0.030389</td>\n",
              "      <td>1.000000</td>\n",
              "      <td>0.997150</td>\n",
              "    </tr>\n",
              "    <tr>\n",
              "      <th>travel_dayof_year</th>\n",
              "      <td>0.033685</td>\n",
              "      <td>0.028249</td>\n",
              "      <td>0.040311</td>\n",
              "      <td>-0.025947</td>\n",
              "      <td>0.086896</td>\n",
              "      <td>-0.086896</td>\n",
              "      <td>0.028571</td>\n",
              "      <td>0.997150</td>\n",
              "      <td>1.000000</td>\n",
              "    </tr>\n",
              "  </tbody>\n",
              "</table>\n",
              "</div>"
            ],
            "text/plain": [
              "                    ride_id  travel_date  ...  travel_month  travel_dayof_year\n",
              "ride_id            1.000000     0.016338  ...      0.029872           0.033685\n",
              "travel_date        0.016338     1.000000  ...      0.031918           0.028249\n",
              "travel_time        0.103864     0.022232  ...      0.041282           0.040311\n",
              "travel_from        0.065618     0.007310  ...     -0.024963          -0.025947\n",
              "car_type          -0.257885    -0.030175  ...      0.085932           0.086896\n",
              "max_capacity       0.257885     0.030175  ...     -0.085932          -0.086896\n",
              "number_of_tickets  0.093817     0.001035  ...      0.030389           0.028571\n",
              "travel_month       0.029872     0.031918  ...      1.000000           0.997150\n",
              "travel_dayof_year  0.033685     0.028249  ...      0.997150           1.000000\n",
              "\n",
              "[9 rows x 9 columns]"
            ]
          },
          "metadata": {
            "tags": []
          },
          "execution_count": 29
        }
      ]
    },
    {
      "cell_type": "code",
      "metadata": {
        "colab": {
          "base_uri": "https://localhost:8080/",
          "height": 694
        },
        "id": "K0KwLdlvDQbG",
        "outputId": "ff700fe7-5fff-4436-a66c-c811e1ba6f9c"
      },
      "source": [
        "plt.figure(figsize=(12,10))\n",
        "sns.heatmap(df_processed.corr(),annot= True)"
      ],
      "execution_count": null,
      "outputs": [
        {
          "output_type": "execute_result",
          "data": {
            "text/plain": [
              "<matplotlib.axes._subplots.AxesSubplot at 0x7ff7569cb320>"
            ]
          },
          "metadata": {
            "tags": []
          },
          "execution_count": 30
        },
        {
          "output_type": "display_data",
          "data": {
            "image/png": "[encoded data removed]",
            "text/plain": [
              "<Figure size 864x720 with 2 Axes>"
            ]
          },
          "metadata": {
            "tags": [],
            "needs_background": "light"
          }
        }
      ]
    },
    {
      "cell_type": "code",
      "metadata": {
        "id": "Ho_zR5BBDZ9g"
      },
      "source": [
        "X = df_processed.drop([\"number_of_tickets\"], axis=1)\n",
        "y = df_processed.number_of_tickets"
      ],
      "execution_count": null,
      "outputs": []
    },
    {
      "cell_type": "code",
      "metadata": {
        "id": "DvT-fN6WEMJ9"
      },
      "source": [
        "# from sklearn.model_selection import train_test_split\n",
        "# Splitting the dataset into the Training set and Test set\n",
        "X_train, X_test, y_train, y_test = train_test_split(X, y, test_size = 0.2, random_state = 0)"
      ],
      "execution_count": null,
      "outputs": []
    },
    {
      "cell_type": "code",
      "metadata": {
        "colab": {
          "base_uri": "https://localhost:8080/"
        },
        "id": "aR_vJeveDmuk",
        "outputId": "bba3f663-433c-4b03-b19e-09034553cc02"
      },
      "source": [
        "# Fitting Multiple Linear Regression to the Training set\n",
        "model = LinearRegression()\n",
        "model.fit(X_train, y_train)"
      ],
      "execution_count": null,
      "outputs": [
        {
          "output_type": "execute_result",
          "data": {
            "text/plain": [
              "LinearRegression(copy_X=True, fit_intercept=True, n_jobs=None, normalize=False)"
            ]
          },
          "metadata": {
            "tags": []
          },
          "execution_count": 33
        }
      ]
    },
    {
      "cell_type": "code",
      "metadata": {
        "id": "5GYSJvx6FnO-"
      },
      "source": [
        "y_train_pred = model.predict(X_train)\n",
        "y_test_pred = model.predict(X_test)\n"
      ],
      "execution_count": null,
      "outputs": []
    },
    {
      "cell_type": "code",
      "metadata": {
        "id": "l9BQ1RVLE1hc"
      },
      "source": [
        "preds_train_set = model.predict(X_train)"
      ],
      "execution_count": null,
      "outputs": []
    },
    {
      "cell_type": "code",
      "metadata": {
        "id": "XmjSspz8F1j1"
      },
      "source": [
        "from numpy import math"
      ],
      "execution_count": null,
      "outputs": []
    },
    {
      "cell_type": "code",
      "metadata": {
        "colab": {
          "base_uri": "https://localhost:8080/"
        },
        "id": "g_4HpJC8HUgm",
        "outputId": "697f4988-504f-4eb3-cb20-350947b302c0"
      },
      "source": [
        "accuracy = model.score(X_train,y_train)\n",
        "accuracy_test = model.score(X_test,y_test)\n",
        "\n",
        "print(f'The accuracy of the train dataset is : {accuracy}')\n",
        "print(f'The accuracy of the test dataset is : {accuracy_test}')"
      ],
      "execution_count": null,
      "outputs": [
        {
          "output_type": "stream",
          "text": [
            "The accuracy of the train dataset is : 0.10492711160627888\n",
            "The accuracy of the test dataset is : 0.06490235261004396\n"
          ],
          "name": "stdout"
        }
      ]
    },
    {
      "cell_type": "code",
      "metadata": {
        "id": "vhb2UE8fHTqf"
      },
      "source": [
        ""
      ],
      "execution_count": null,
      "outputs": []
    },
    {
      "cell_type": "code",
      "metadata": {
        "id": "gYaZhkIYFEKe"
      },
      "source": [
        "def print_metrics(actual, predicted):\n",
        "  print('MSE is {}'.format(mean_squared_error(actual, predicted)))\n",
        "  print('RMSE is {}'.format(math.sqrt(mean_squared_error(actual, predicted))))\n",
        "  print('RMSE is {}'.format(r2_score(actual, predicted)))\n",
        "  print('MAE is {}'.format(mean_absolute_error(actual, predicted)))\n",
        "  print('MAPE is {}'.format(np.mean(np.abs((actual - predicted) / actual)) * 100))\n",
        "  "
      ],
      "execution_count": null,
      "outputs": []
    },
    {
      "cell_type": "code",
      "metadata": {
        "colab": {
          "base_uri": "https://localhost:8080/"
        },
        "id": "WjYwtLuvFTB3",
        "outputId": "710c6e75-e750-4f7a-8bbe-f843c4c5e495"
      },
      "source": [
        "print_metrics(y_train, y_train_pred)"
      ],
      "execution_count": null,
      "outputs": [
        {
          "output_type": "stream",
          "text": [
            "MSE is 66.33303196990677\n",
            "RMSE is 8.144509314250108\n",
            "RMSE is 0.10492711160627888\n",
            "MAE is 5.939084535774763\n",
            "MAPE is 220.11707330227298\n"
          ],
          "name": "stdout"
        }
      ]
    },
    {
      "cell_type": "code",
      "metadata": {
        "colab": {
          "base_uri": "https://localhost:8080/"
        },
        "id": "vn81hzQ9FbER",
        "outputId": "7148e6f1-7d49-4560-a3b6-4fe4a11ea249"
      },
      "source": [
        "# Test dataset metrics\n",
        "print_metrics(y_test, y_test_pred)"
      ],
      "execution_count": null,
      "outputs": [
        {
          "output_type": "stream",
          "text": [
            "MSE is 71.19114494386439\n",
            "RMSE is 8.437484515177754\n",
            "RMSE is 0.06490235261004396\n",
            "MAE is 6.162944812929949\n",
            "MAPE is 235.7782413521052\n"
          ],
          "name": "stdout"
        }
      ]
    },
    {
      "cell_type": "code",
      "metadata": {
        "colab": {
          "base_uri": "https://localhost:8080/"
        },
        "id": "3T1Jb03VGAux",
        "outputId": "39a8d511-e13f-4f9a-f540-93e775d6e3c7"
      },
      "source": [
        "print (explained_variance_score(y_train,preds_train_set)) #best is 1.0"
      ],
      "execution_count": null,
      "outputs": [
        {
          "output_type": "stream",
          "text": [
            "0.10492711160627899\n"
          ],
          "name": "stdout"
        }
      ]
    },
    {
      "cell_type": "code",
      "metadata": {
        "colab": {
          "base_uri": "https://localhost:8080/"
        },
        "id": "x1LyrrdP_M3k",
        "outputId": "6ab135cf-8ef3-4fdd-cfc5-f688b8227634"
      },
      "source": [
        "from sklearn.metrics import r2_score\n",
        "r2 = r2_score(10**(y_test), 10**(y_test_pred))\n",
        "print(\"R2 :\" ,r2)\n",
        "print(\"Adjusted R2 : \",1-(1-r2_score(10**(y_test), 10**(y_test_pred)))*((X_test.shape[0]-1)/(X_test.shape[0]-X_test.shape[1]-1)))"
      ],
      "execution_count": null,
      "outputs": [
        {
          "output_type": "stream",
          "text": [
            "R2 : -0.0014256885340895309\n",
            "Adjusted R2 :  -0.007881293294986103\n"
          ],
          "name": "stdout"
        }
      ]
    },
    {
      "cell_type": "code",
      "metadata": {
        "colab": {
          "base_uri": "https://localhost:8080/",
          "height": 592
        },
        "id": "-EgeklSCClCY",
        "outputId": "abd7d65b-feb8-4698-aa68-65dab708670d"
      },
      "source": [
        "plt.figure(figsize=(20,10))\n",
        "plt.plot(y_test_pred)\n",
        "plt.plot(np.array(y_test))\n",
        "plt.legend([\"Predicted\",\"Actual\"])\n",
        "plt.show()"
      ],
      "execution_count": null,
      "outputs": [
        {
          "output_type": "display_data",
          "data": {
            "image/png": "[encoded data removed]",
            "text/plain": [
              "<Figure size 1440x720 with 1 Axes>"
            ]
          },
          "metadata": {
            "tags": [],
            "needs_background": "light"
          }
        }
      ]
    },
    {
      "cell_type": "markdown",
      "metadata": {
        "id": "h8_tZpmH-9e3"
      },
      "source": [
        "# Implementing Lasso Regression"
      ]
    },
    {
      "cell_type": "code",
      "metadata": {
        "colab": {
          "base_uri": "https://localhost:8080/"
        },
        "id": "H_t79qAN-8Jj",
        "outputId": "6e124e59-5828-4975-c67e-ffa8e815e1ce"
      },
      "source": [
        "from sklearn.linear_model import Lasso\n",
        "lasso  = Lasso(alpha=0.1 , max_iter= 3000)\n",
        "\n",
        "lasso.fit(X_train, y_train)"
      ],
      "execution_count": null,
      "outputs": [
        {
          "output_type": "execute_result",
          "data": {
            "text/plain": [
              "Lasso(alpha=0.1, copy_X=True, fit_intercept=True, max_iter=3000,\n",
              "      normalize=False, positive=False, precompute=False, random_state=None,\n",
              "      selection='cyclic', tol=0.0001, warm_start=False)"
            ]
          },
          "metadata": {
            "tags": []
          },
          "execution_count": 47
        }
      ]
    },
    {
      "cell_type": "code",
      "metadata": {
        "colab": {
          "base_uri": "https://localhost:8080/"
        },
        "id": "Ts7yH6orTULI",
        "outputId": "60078362-ea90-4046-af82-a6aa06c191dd"
      },
      "source": [
        "lasso.score(X_train, y_train)"
      ],
      "execution_count": null,
      "outputs": [
        {
          "output_type": "execute_result",
          "data": {
            "text/plain": [
              "0.10456907485927547"
            ]
          },
          "metadata": {
            "tags": []
          },
          "execution_count": 48
        }
      ]
    },
    {
      "cell_type": "code",
      "metadata": {
        "id": "oxgu48FPT5UZ"
      },
      "source": [
        "y_pred_l = lasso.predict(X_test)"
      ],
      "execution_count": null,
      "outputs": []
    },
    {
      "cell_type": "code",
      "metadata": {
        "colab": {
          "base_uri": "https://localhost:8080/"
        },
        "id": "AmnZhp9xGZNe",
        "outputId": "7ac4bc7a-ac4b-4428-b143-98e5387913d8"
      },
      "source": [
        "MSE  = mean_squared_error(10**(y_test), 10**(y_pred_l))\n",
        "print(\"MSE :\" , MSE)\n",
        "\n",
        "RMSE = np.sqrt(MSE)\n",
        "print(\"RMSE :\" ,RMSE)\n",
        "\n",
        "r2 = r2_score(10**(y_test), 10**(y_pred_l))\n",
        "print(\"R2 :\" ,r2)\n",
        "print(\"Adjusted R2 : \",1-(1-r2_score(10**(y_test), 10**(y_pred_l)))*((X_test.shape[0]-1)/(X_test.shape[0]-X_test.shape[1]-1)))"
      ],
      "execution_count": null,
      "outputs": [
        {
          "output_type": "stream",
          "text": [
            "MSE : 8.244032160000001e+94\n",
            "RMSE : 2.87124226773012e+47\n",
            "R2 : -0.0014256885340895309\n",
            "Adjusted R2 :  -0.007881293294986103\n"
          ],
          "name": "stdout"
        }
      ]
    },
    {
      "cell_type": "code",
      "metadata": {
        "id": "dNTi69w3Dpqg"
      },
      "source": [
        "from sklearn.model_selection import GridSearchCV"
      ],
      "execution_count": null,
      "outputs": []
    },
    {
      "cell_type": "code",
      "metadata": {
        "colab": {
          "base_uri": "https://localhost:8080/"
        },
        "id": "MTylI1cuFOj5",
        "outputId": "078b12de-a348-49be-9cee-cf2d9d6d32dd"
      },
      "source": [
        "### Cross validation\n",
        "lasso = Lasso()\n",
        "parameters = {'alpha': [1e-15,1e-13,1e-10,1e-8,1e-5,1e-4,1e-3,1e-2,1e-1,1,5,10,20,30,40,45,50,55,60,100]}\n",
        "lasso_regressor = GridSearchCV(lasso, parameters, scoring='neg_mean_squared_error', cv=3)\n",
        "lasso_regressor.fit(X_train, y_train)"
      ],
      "execution_count": null,
      "outputs": [
        {
          "output_type": "stream",
          "text": [
            "/usr/local/lib/python3.6/dist-packages/sklearn/linear_model/_coordinate_descent.py:476: ConvergenceWarning: Objective did not converge. You might want to increase the number of iterations. Duality gap: 111527.70945805607, tolerance: 25.002985234093646\n",
            "  positive)\n",
            "/usr/local/lib/python3.6/dist-packages/sklearn/linear_model/_coordinate_descent.py:476: ConvergenceWarning: Objective did not converge. You might want to increase the number of iterations. Duality gap: 109441.12531677837, tolerance: 24.509466846684653\n",
            "  positive)\n",
            "/usr/local/lib/python3.6/dist-packages/sklearn/linear_model/_coordinate_descent.py:476: ConvergenceWarning: Objective did not converge. You might want to increase the number of iterations. Duality gap: 110419.07059366771, tolerance: 24.58159621962196\n",
            "  positive)\n",
            "/usr/local/lib/python3.6/dist-packages/sklearn/linear_model/_coordinate_descent.py:476: ConvergenceWarning: Objective did not converge. You might want to increase the number of iterations. Duality gap: 111527.70942932247, tolerance: 25.002985234093646\n",
            "  positive)\n",
            "/usr/local/lib/python3.6/dist-packages/sklearn/linear_model/_coordinate_descent.py:476: ConvergenceWarning: Objective did not converge. You might want to increase the number of iterations. Duality gap: 109441.12446392157, tolerance: 24.509466846684653\n",
            "  positive)\n",
            "/usr/local/lib/python3.6/dist-packages/sklearn/linear_model/_coordinate_descent.py:476: ConvergenceWarning: Objective did not converge. You might want to increase the number of iterations. Duality gap: 110419.07027282151, tolerance: 24.58159621962196\n",
            "  positive)\n",
            "/usr/local/lib/python3.6/dist-packages/sklearn/linear_model/_coordinate_descent.py:476: ConvergenceWarning: Objective did not converge. You might want to increase the number of iterations. Duality gap: 111527.68043455308, tolerance: 25.002985234093646\n",
            "  positive)\n",
            "/usr/local/lib/python3.6/dist-packages/sklearn/linear_model/_coordinate_descent.py:476: ConvergenceWarning: Objective did not converge. You might want to increase the number of iterations. Duality gap: 109440.263858906, tolerance: 24.509466846684653\n",
            "  positive)\n",
            "/usr/local/lib/python3.6/dist-packages/sklearn/linear_model/_coordinate_descent.py:476: ConvergenceWarning: Objective did not converge. You might want to increase the number of iterations. Duality gap: 110418.74651060064, tolerance: 24.58159621962196\n",
            "  positive)\n",
            "/usr/local/lib/python3.6/dist-packages/sklearn/linear_model/_coordinate_descent.py:476: ConvergenceWarning: Objective did not converge. You might want to increase the number of iterations. Duality gap: 111524.80713482936, tolerance: 25.002985234093646\n",
            "  positive)\n",
            "/usr/local/lib/python3.6/dist-packages/sklearn/linear_model/_coordinate_descent.py:476: ConvergenceWarning: Objective did not converge. You might want to increase the number of iterations. Duality gap: 109355.02870655227, tolerance: 24.509466846684653\n",
            "  positive)\n",
            "/usr/local/lib/python3.6/dist-packages/sklearn/linear_model/_coordinate_descent.py:476: ConvergenceWarning: Objective did not converge. You might want to increase the number of iterations. Duality gap: 110386.6689851873, tolerance: 24.58159621962196\n",
            "  positive)\n",
            "/usr/local/lib/python3.6/dist-packages/sklearn/linear_model/_coordinate_descent.py:476: ConvergenceWarning: Objective did not converge. You might want to increase the number of iterations. Duality gap: 108680.75665312402, tolerance: 25.002985234093646\n",
            "  positive)\n",
            "/usr/local/lib/python3.6/dist-packages/sklearn/linear_model/_coordinate_descent.py:476: ConvergenceWarning: Objective did not converge. You might want to increase the number of iterations. Duality gap: 56243.327748488904, tolerance: 24.509466846684653\n",
            "  positive)\n",
            "/usr/local/lib/python3.6/dist-packages/sklearn/linear_model/_coordinate_descent.py:476: ConvergenceWarning: Objective did not converge. You might want to increase the number of iterations. Duality gap: 83937.80542235437, tolerance: 24.58159621962196\n",
            "  positive)\n",
            "/usr/local/lib/python3.6/dist-packages/sklearn/linear_model/_coordinate_descent.py:476: ConvergenceWarning: Objective did not converge. You might want to increase the number of iterations. Duality gap: 87305.82255791166, tolerance: 25.002985234093646\n",
            "  positive)\n",
            "/usr/local/lib/python3.6/dist-packages/sklearn/linear_model/_coordinate_descent.py:476: ConvergenceWarning: Objective did not converge. You might want to increase the number of iterations. Duality gap: 4248.268120419525, tolerance: 24.509466846684653\n",
            "  positive)\n",
            "/usr/local/lib/python3.6/dist-packages/sklearn/linear_model/_coordinate_descent.py:476: ConvergenceWarning: Objective did not converge. You might want to increase the number of iterations. Duality gap: 17851.234737758496, tolerance: 24.58159621962196\n",
            "  positive)\n",
            "/usr/local/lib/python3.6/dist-packages/sklearn/linear_model/_coordinate_descent.py:476: ConvergenceWarning: Objective did not converge. You might want to increase the number of iterations. Duality gap: 20840.63222057205, tolerance: 25.002985234093646\n",
            "  positive)\n",
            "/usr/local/lib/python3.6/dist-packages/sklearn/linear_model/_coordinate_descent.py:476: ConvergenceWarning: Objective did not converge. You might want to increase the number of iterations. Duality gap: 29.388394352630712, tolerance: 24.509466846684653\n",
            "  positive)\n",
            "/usr/local/lib/python3.6/dist-packages/sklearn/linear_model/_coordinate_descent.py:476: ConvergenceWarning: Objective did not converge. You might want to increase the number of iterations. Duality gap: 344.5705089797557, tolerance: 24.58159621962196\n",
            "  positive)\n",
            "/usr/local/lib/python3.6/dist-packages/sklearn/linear_model/_coordinate_descent.py:476: ConvergenceWarning: Objective did not converge. You might want to increase the number of iterations. Duality gap: 476.071944514144, tolerance: 25.002985234093646\n",
            "  positive)\n"
          ],
          "name": "stderr"
        },
        {
          "output_type": "execute_result",
          "data": {
            "text/plain": [
              "GridSearchCV(cv=3, error_score=nan,\n",
              "             estimator=Lasso(alpha=1.0, copy_X=True, fit_intercept=True,\n",
              "                             max_iter=1000, normalize=False, positive=False,\n",
              "                             precompute=False, random_state=None,\n",
              "                             selection='cyclic', tol=0.0001, warm_start=False),\n",
              "             iid='deprecated', n_jobs=None,\n",
              "             param_grid={'alpha': [1e-15, 1e-13, 1e-10, 1e-08, 1e-05, 0.0001,\n",
              "                                   0.001, 0.01, 0.1, 1, 5, 10, 20, 30, 40, 45,\n",
              "                                   50, 55, 60, 100]},\n",
              "             pre_dispatch='2*n_jobs', refit=True, return_train_score=False,\n",
              "             scoring='neg_mean_squared_error', verbose=0)"
            ]
          },
          "metadata": {
            "tags": []
          },
          "execution_count": 52
        }
      ]
    },
    {
      "cell_type": "code",
      "metadata": {
        "colab": {
          "base_uri": "https://localhost:8080/"
        },
        "id": "qcgysXYZFRuI",
        "outputId": "8e177fc7-9a1a-4571-ab42-584de7a254ea"
      },
      "source": [
        "print(\"The best fit alpha value is found out to be :\" ,lasso_regressor.best_params_)\n",
        "print(\"\\nUsing \",lasso_regressor.best_params_, \" the negative mean squared error is: \", lasso_regressor.best_score_)"
      ],
      "execution_count": null,
      "outputs": [
        {
          "output_type": "stream",
          "text": [
            "The best fit alpha value is found out to be : {'alpha': 0.1}\n",
            "\n",
            "Using  {'alpha': 0.1}  the negative mean squared error is:  -66.45012780556249\n"
          ],
          "name": "stdout"
        }
      ]
    },
    {
      "cell_type": "markdown",
      "metadata": {
        "id": "NmDTErKQF4kX"
      },
      "source": [
        "# <b> Implementing Ridge Regression"
      ]
    },
    {
      "cell_type": "code",
      "metadata": {
        "id": "2OAci0lPF37_"
      },
      "source": [
        "from sklearn.linear_model import Ridge\n",
        "\n",
        "ridge  = Ridge(alpha=0.1)"
      ],
      "execution_count": null,
      "outputs": []
    },
    {
      "cell_type": "code",
      "metadata": {
        "colab": {
          "base_uri": "https://localhost:8080/"
        },
        "id": "B-jF-DnhFXaN",
        "outputId": "d1cb4fb7-b846-425e-b908-e92785550216"
      },
      "source": [
        "ridge.fit(X_train,y_train)"
      ],
      "execution_count": null,
      "outputs": [
        {
          "output_type": "execute_result",
          "data": {
            "text/plain": [
              "Ridge(alpha=0.1, copy_X=True, fit_intercept=True, max_iter=None,\n",
              "      normalize=False, random_state=None, solver='auto', tol=0.001)"
            ]
          },
          "metadata": {
            "tags": []
          },
          "execution_count": 55
        }
      ]
    },
    {
      "cell_type": "code",
      "metadata": {
        "colab": {
          "base_uri": "https://localhost:8080/"
        },
        "id": "xr-psXHKGGrM",
        "outputId": "80993f0f-ea87-4dac-ca2f-80c9dd431b3b"
      },
      "source": [
        "ridge.score(X_train, y_train)"
      ],
      "execution_count": null,
      "outputs": [
        {
          "output_type": "execute_result",
          "data": {
            "text/plain": [
              "0.10492711159198308"
            ]
          },
          "metadata": {
            "tags": []
          },
          "execution_count": 56
        }
      ]
    },
    {
      "cell_type": "code",
      "metadata": {
        "id": "0atidgYQGJFv"
      },
      "source": [
        "y_pred_r = ridge.predict(X_test)"
      ],
      "execution_count": null,
      "outputs": []
    },
    {
      "cell_type": "code",
      "metadata": {
        "colab": {
          "base_uri": "https://localhost:8080/"
        },
        "id": "6m_qynsPGQMF",
        "outputId": "47c77a1f-360e-41f3-fd14-a199f2c314d3"
      },
      "source": [
        "MSE  = mean_squared_error(10**(y_test), 10**(y_pred_r))\n",
        "print(\"MSE :\" , MSE)\n",
        "\n",
        "RMSE = np.sqrt(MSE)\n",
        "print(\"RMSE :\" ,RMSE)\n",
        "\n",
        "r2 = r2_score(10**(y_test), 10**(y_pred_r))\n",
        "print(\"R2 :\" ,r2)\n",
        "print(\"Adjusted R2 : \",1-(1-r2_score(10**(y_test), 10**(y_pred_r)))*((X_test.shape[0]-1)/(X_test.shape[0]-X_test.shape[1]-1)))"
      ],
      "execution_count": null,
      "outputs": [
        {
          "output_type": "stream",
          "text": [
            "MSE : 8.244032160000001e+94\n",
            "RMSE : 2.87124226773012e+47\n",
            "R2 : -0.0014256885340895309\n",
            "Adjusted R2 :  -0.007881293294986103\n"
          ],
          "name": "stdout"
        }
      ]
    },
    {
      "cell_type": "markdown",
      "metadata": {
        "id": "ACQHIUtwGXet"
      },
      "source": [
        "# <b> Running Grid Search Cross Validation for Ridge Regression </b>"
      ]
    },
    {
      "cell_type": "code",
      "metadata": {
        "colab": {
          "base_uri": "https://localhost:8080/"
        },
        "id": "67oQgN-gGStV",
        "outputId": "dc2cc244-2412-42b8-c976-a80a9e7503a9"
      },
      "source": [
        "# Hyperprarameter tuning\n",
        "ridge = Ridge()\n",
        "parameters = {'alpha': [1e-15,1e-10,1e-8,1e-5,1e-4,1e-3,1e-2,1,5,10,20,30,40,45,50,55,60,100]}\n",
        "ridge_regressor = GridSearchCV(ridge, parameters, scoring='neg_mean_squared_error', cv=3)\n",
        "ridge_regressor.fit(X_train,y_train)"
      ],
      "execution_count": null,
      "outputs": [
        {
          "output_type": "stream",
          "text": [
            "/usr/local/lib/python3.6/dist-packages/sklearn/linear_model/_ridge.py:148: LinAlgWarning: Ill-conditioned matrix (rcond=5.3886e-21): result may not be accurate.\n",
            "  overwrite_a=True).T\n",
            "/usr/local/lib/python3.6/dist-packages/sklearn/linear_model/_ridge.py:148: LinAlgWarning: Ill-conditioned matrix (rcond=5.01758e-21): result may not be accurate.\n",
            "  overwrite_a=True).T\n",
            "/usr/local/lib/python3.6/dist-packages/sklearn/linear_model/_ridge.py:148: LinAlgWarning: Ill-conditioned matrix (rcond=5.28804e-21): result may not be accurate.\n",
            "  overwrite_a=True).T\n",
            "/usr/local/lib/python3.6/dist-packages/sklearn/linear_model/_ridge.py:148: LinAlgWarning: Ill-conditioned matrix (rcond=5.3853e-19): result may not be accurate.\n",
            "  overwrite_a=True).T\n",
            "/usr/local/lib/python3.6/dist-packages/sklearn/linear_model/_ridge.py:148: LinAlgWarning: Ill-conditioned matrix (rcond=5.45851e-19): result may not be accurate.\n",
            "  overwrite_a=True).T\n",
            "/usr/local/lib/python3.6/dist-packages/sklearn/linear_model/_ridge.py:148: LinAlgWarning: Ill-conditioned matrix (rcond=5.5411e-19): result may not be accurate.\n",
            "  overwrite_a=True).T\n"
          ],
          "name": "stderr"
        },
        {
          "output_type": "execute_result",
          "data": {
            "text/plain": [
              "GridSearchCV(cv=3, error_score=nan,\n",
              "             estimator=Ridge(alpha=1.0, copy_X=True, fit_intercept=True,\n",
              "                             max_iter=None, normalize=False, random_state=None,\n",
              "                             solver='auto', tol=0.001),\n",
              "             iid='deprecated', n_jobs=None,\n",
              "             param_grid={'alpha': [1e-15, 1e-10, 1e-08, 1e-05, 0.0001, 0.001,\n",
              "                                   0.01, 1, 5, 10, 20, 30, 40, 45, 50, 55, 60,\n",
              "                                   100]},\n",
              "             pre_dispatch='2*n_jobs', refit=True, return_train_score=False,\n",
              "             scoring='neg_mean_squared_error', verbose=0)"
            ]
          },
          "metadata": {
            "tags": []
          },
          "execution_count": 59
        }
      ]
    },
    {
      "cell_type": "code",
      "metadata": {
        "colab": {
          "base_uri": "https://localhost:8080/"
        },
        "id": "E3E6Q5QjGdB8",
        "outputId": "6377fd63-84ec-4954-d666-f371e9849af5"
      },
      "source": [
        "print(\"The best fit alpha value is found out to be :\" ,ridge_regressor.best_params_)\n",
        "print(\"\\nUsing \",ridge_regressor.best_params_, \" the negative mean squared error is: \", ridge_regressor.best_score_)"
      ],
      "execution_count": null,
      "outputs": [
        {
          "output_type": "stream",
          "text": [
            "The best fit alpha value is found out to be : {'alpha': 100}\n",
            "\n",
            "Using  {'alpha': 100}  the negative mean squared error is:  -66.50961307156575\n"
          ],
          "name": "stdout"
        }
      ]
    },
    {
      "cell_type": "code",
      "metadata": {
        "id": "E9l9k0iMHSAh"
      },
      "source": [
        "#Model Prediction\n",
        "y_pred_ridge = ridge_regressor.predict(X_test)"
      ],
      "execution_count": null,
      "outputs": []
    },
    {
      "cell_type": "code",
      "metadata": {
        "colab": {
          "base_uri": "https://localhost:8080/"
        },
        "id": "lEfIU9VLHVwy",
        "outputId": "635ad955-3749-46a4-8c0b-ceb81c702fa3"
      },
      "source": [
        "MSE  = mean_squared_error(10**(y_test), 10**(y_pred_ridge))\n",
        "print(\"MSE :\" , MSE)\n",
        "\n",
        "RMSE = np.sqrt(MSE)\n",
        "print(\"RMSE :\" ,RMSE)\n",
        "\n",
        "r2 = r2_score(10**(y_test), 10**(y_pred_ridge))\n",
        "print(\"R2 :\" ,r2)\n",
        "print(\"Adjusted R2 : \",1-(1-r2_score(10**(y_test), 10**(y_pred_ridge)))*((X_test.shape[0]-1)/(X_test.shape[0]-X_test.shape[1]-1)))"
      ],
      "execution_count": null,
      "outputs": [
        {
          "output_type": "stream",
          "text": [
            "MSE : 8.244032160000001e+94\n",
            "RMSE : 2.87124226773012e+47\n",
            "R2 : -0.0014256885340895309\n",
            "Adjusted R2 :  -0.007881293294986103\n"
          ],
          "name": "stdout"
        }
      ]
    },
    {
      "cell_type": "code",
      "metadata": {
        "colab": {
          "base_uri": "https://localhost:8080/",
          "height": 320
        },
        "id": "g3OqM8tmHXtP",
        "outputId": "fb192670-1455-49bf-e28d-4f5916e15404"
      },
      "source": [
        "plt.figure(figsize=(8,5))\n",
        "plt.plot(y_pred_ridge)\n",
        "plt.plot(np.array(y_test))\n",
        "plt.legend([\"Predicted\",\"Actual\"])\n",
        "plt.show()"
      ],
      "execution_count": null,
      "outputs": [
        {
          "output_type": "display_data",
          "data": {
            "image/png": "[encoded data removed]",
            "text/plain": [
              "<Figure size 576x360 with 1 Axes>"
            ]
          },
          "metadata": {
            "tags": [],
            "needs_background": "light"
          }
        }
      ]
    },
    {
      "cell_type": "code",
      "metadata": {
        "id": "T0JOEdx3Ha24"
      },
      "source": [
        ""
      ],
      "execution_count": null,
      "outputs": []
    },
    {
      "cell_type": "markdown",
      "metadata": {
        "id": "LwYM3zmBIUzq"
      },
      "source": [
        "# Random Forest"
      ]
    },
    {
      "cell_type": "code",
      "metadata": {
        "id": "p6nBcJ6OIW_L"
      },
      "source": [
        "from sklearn.ensemble import RandomForestRegressor \n",
        "from sklearn.metrics import mean_absolute_error, mean_squared_error, explained_variance_score\n",
        "from sklearn.metrics import roc_auc_score\n",
        "import datetime as dt\n",
        "import matplotlib.pyplot as plt"
      ],
      "execution_count": 65,
      "outputs": []
    },
    {
      "cell_type": "code",
      "metadata": {
        "id": "_nj7V-VNNmSH"
      },
      "source": [
        "df_raw = pd.read_csv('/content/drive/MyDrive/AlmaBetter/Cohort Aravali/Module 4/Week 1/Data _ Resources/train_revised.csv')"
      ],
      "execution_count": 94,
      "outputs": []
    },
    {
      "cell_type": "code",
      "metadata": {
        "colab": {
          "base_uri": "https://localhost:8080/"
        },
        "id": "6lxTlsL1No9b",
        "outputId": "a59d5d75-8f09-49fa-da1a-8b3b4afa586f"
      },
      "source": [
        "df_raw[\"payment_method\"].value_counts()"
      ],
      "execution_count": 95,
      "outputs": [
        {
          "output_type": "execute_result",
          "data": {
            "text/plain": [
              "Mpesa    51532\n",
              "Cash       113\n",
              "Name: payment_method, dtype: int64"
            ]
          },
          "metadata": {
            "tags": []
          },
          "execution_count": 95
        }
      ]
    },
    {
      "cell_type": "code",
      "metadata": {
        "colab": {
          "base_uri": "https://localhost:8080/"
        },
        "id": "xEPh38nBNory",
        "outputId": "bc53e66c-3718-4e41-a98e-60b64b9b7271"
      },
      "source": [
        "df_raw[\"travel_to\"].value_counts()"
      ],
      "execution_count": 96,
      "outputs": [
        {
          "output_type": "execute_result",
          "data": {
            "text/plain": [
              "Nairobi    51645\n",
              "Name: travel_to, dtype: int64"
            ]
          },
          "metadata": {
            "tags": []
          },
          "execution_count": 96
        }
      ]
    },
    {
      "cell_type": "code",
      "metadata": {
        "id": "yWIFXm1nN9JM"
      },
      "source": [
        "ride_id_dict = {} \n",
        "for ride_id in df_raw[\"ride_id\"]:\n",
        "    if not ride_id in ride_id_dict:\n",
        "        ride_id_dict[ride_id] = 1\n",
        "    else:\n",
        "        ride_id_dict[ride_id] += 1"
      ],
      "execution_count": 97,
      "outputs": []
    },
    {
      "cell_type": "code",
      "metadata": {
        "id": "20vKX_SfOHlE"
      },
      "source": [
        "df_processed = df_raw.drop(['seat_number', 'payment_method', 'payment_receipt', 'travel_to'], axis=1)"
      ],
      "execution_count": 98,
      "outputs": []
    },
    {
      "cell_type": "code",
      "metadata": {
        "id": "1C6VRSOlOMsY"
      },
      "source": [
        "df_processed.drop_duplicates(inplace=True)\n",
        "df_processed.reset_index(drop= True, inplace=True)"
      ],
      "execution_count": 99,
      "outputs": []
    },
    {
      "cell_type": "code",
      "metadata": {
        "id": "LRn2PE2pOQhm"
      },
      "source": [
        "df_processed[\"number_of_tickets\"]= np.zeros(len(df_processed))"
      ],
      "execution_count": 100,
      "outputs": []
    },
    {
      "cell_type": "code",
      "metadata": {
        "id": "_kBgres1OVWZ"
      },
      "source": [
        "for i in range(len(df_processed)):\n",
        "    ride_id = df_processed.loc[i][\"ride_id\"]\n",
        "    df_processed.at[i,\"number_of_tickets\"] = ride_id_dict[ride_id]"
      ],
      "execution_count": 101,
      "outputs": []
    },
    {
      "cell_type": "code",
      "metadata": {
        "colab": {
          "base_uri": "https://localhost:8080/",
          "height": 204
        },
        "id": "EPAhVk9qIoj1",
        "outputId": "311c6b9a-953f-4622-833a-2ad23ae6f947"
      },
      "source": [
        "df_processed.head()"
      ],
      "execution_count": 102,
      "outputs": [
        {
          "output_type": "execute_result",
          "data": {
            "text/html": [
              "<div>\n",
              "<style scoped>\n",
              "    .dataframe tbody tr th:only-of-type {\n",
              "        vertical-align: middle;\n",
              "    }\n",
              "\n",
              "    .dataframe tbody tr th {\n",
              "        vertical-align: top;\n",
              "    }\n",
              "\n",
              "    .dataframe thead th {\n",
              "        text-align: right;\n",
              "    }\n",
              "</style>\n",
              "<table border=\"1\" class=\"dataframe\">\n",
              "  <thead>\n",
              "    <tr style=\"text-align: right;\">\n",
              "      <th></th>\n",
              "      <th>ride_id</th>\n",
              "      <th>travel_date</th>\n",
              "      <th>travel_time</th>\n",
              "      <th>travel_from</th>\n",
              "      <th>car_type</th>\n",
              "      <th>max_capacity</th>\n",
              "      <th>number_of_tickets</th>\n",
              "    </tr>\n",
              "  </thead>\n",
              "  <tbody>\n",
              "    <tr>\n",
              "      <th>0</th>\n",
              "      <td>1442</td>\n",
              "      <td>17-10-17</td>\n",
              "      <td>7:15</td>\n",
              "      <td>Migori</td>\n",
              "      <td>Bus</td>\n",
              "      <td>49</td>\n",
              "      <td>1.0</td>\n",
              "    </tr>\n",
              "    <tr>\n",
              "      <th>1</th>\n",
              "      <td>5437</td>\n",
              "      <td>19-11-17</td>\n",
              "      <td>7:12</td>\n",
              "      <td>Migori</td>\n",
              "      <td>Bus</td>\n",
              "      <td>49</td>\n",
              "      <td>1.0</td>\n",
              "    </tr>\n",
              "    <tr>\n",
              "      <th>2</th>\n",
              "      <td>5710</td>\n",
              "      <td>26-11-17</td>\n",
              "      <td>7:05</td>\n",
              "      <td>Keroka</td>\n",
              "      <td>Bus</td>\n",
              "      <td>49</td>\n",
              "      <td>1.0</td>\n",
              "    </tr>\n",
              "    <tr>\n",
              "      <th>3</th>\n",
              "      <td>5777</td>\n",
              "      <td>27-11-17</td>\n",
              "      <td>7:10</td>\n",
              "      <td>Homa Bay</td>\n",
              "      <td>Bus</td>\n",
              "      <td>49</td>\n",
              "      <td>5.0</td>\n",
              "    </tr>\n",
              "    <tr>\n",
              "      <th>4</th>\n",
              "      <td>5778</td>\n",
              "      <td>27-11-17</td>\n",
              "      <td>7:12</td>\n",
              "      <td>Migori</td>\n",
              "      <td>Bus</td>\n",
              "      <td>49</td>\n",
              "      <td>31.0</td>\n",
              "    </tr>\n",
              "  </tbody>\n",
              "</table>\n",
              "</div>"
            ],
            "text/plain": [
              "   ride_id travel_date travel_time  ... car_type max_capacity  number_of_tickets\n",
              "0     1442    17-10-17        7:15  ...      Bus           49                1.0\n",
              "1     5437    19-11-17        7:12  ...      Bus           49                1.0\n",
              "2     5710    26-11-17        7:05  ...      Bus           49                1.0\n",
              "3     5777    27-11-17        7:10  ...      Bus           49                5.0\n",
              "4     5778    27-11-17        7:12  ...      Bus           49               31.0\n",
              "\n",
              "[5 rows x 7 columns]"
            ]
          },
          "metadata": {
            "tags": []
          },
          "execution_count": 102
        }
      ]
    },
    {
      "cell_type": "code",
      "metadata": {
        "colab": {
          "base_uri": "https://localhost:8080/",
          "height": 297
        },
        "id": "DUfO3E5DOZRN",
        "outputId": "f7bbe176-9cf3-4d2c-8f0d-2443673fcde2"
      },
      "source": [
        "df_processed.describe()"
      ],
      "execution_count": 104,
      "outputs": [
        {
          "output_type": "execute_result",
          "data": {
            "text/html": [
              "<div>\n",
              "<style scoped>\n",
              "    .dataframe tbody tr th:only-of-type {\n",
              "        vertical-align: middle;\n",
              "    }\n",
              "\n",
              "    .dataframe tbody tr th {\n",
              "        vertical-align: top;\n",
              "    }\n",
              "\n",
              "    .dataframe thead th {\n",
              "        text-align: right;\n",
              "    }\n",
              "</style>\n",
              "<table border=\"1\" class=\"dataframe\">\n",
              "  <thead>\n",
              "    <tr style=\"text-align: right;\">\n",
              "      <th></th>\n",
              "      <th>ride_id</th>\n",
              "      <th>max_capacity</th>\n",
              "      <th>number_of_tickets</th>\n",
              "    </tr>\n",
              "  </thead>\n",
              "  <tbody>\n",
              "    <tr>\n",
              "      <th>count</th>\n",
              "      <td>6249.000000</td>\n",
              "      <td>6249.000000</td>\n",
              "      <td>6249.000000</td>\n",
              "    </tr>\n",
              "    <tr>\n",
              "      <th>mean</th>\n",
              "      <td>9963.644583</td>\n",
              "      <td>30.392223</td>\n",
              "      <td>8.264522</td>\n",
              "    </tr>\n",
              "    <tr>\n",
              "      <th>std</th>\n",
              "      <td>2296.304872</td>\n",
              "      <td>18.997471</td>\n",
              "      <td>8.632968</td>\n",
              "    </tr>\n",
              "    <tr>\n",
              "      <th>min</th>\n",
              "      <td>1442.000000</td>\n",
              "      <td>11.000000</td>\n",
              "      <td>1.000000</td>\n",
              "    </tr>\n",
              "    <tr>\n",
              "      <th>25%</th>\n",
              "      <td>7989.000000</td>\n",
              "      <td>11.000000</td>\n",
              "      <td>2.000000</td>\n",
              "    </tr>\n",
              "    <tr>\n",
              "      <th>50%</th>\n",
              "      <td>10024.000000</td>\n",
              "      <td>49.000000</td>\n",
              "      <td>7.000000</td>\n",
              "    </tr>\n",
              "    <tr>\n",
              "      <th>75%</th>\n",
              "      <td>11917.000000</td>\n",
              "      <td>49.000000</td>\n",
              "      <td>11.000000</td>\n",
              "    </tr>\n",
              "    <tr>\n",
              "      <th>max</th>\n",
              "      <td>20117.000000</td>\n",
              "      <td>49.000000</td>\n",
              "      <td>50.000000</td>\n",
              "    </tr>\n",
              "  </tbody>\n",
              "</table>\n",
              "</div>"
            ],
            "text/plain": [
              "            ride_id  max_capacity  number_of_tickets\n",
              "count   6249.000000   6249.000000        6249.000000\n",
              "mean    9963.644583     30.392223           8.264522\n",
              "std     2296.304872     18.997471           8.632968\n",
              "min     1442.000000     11.000000           1.000000\n",
              "25%     7989.000000     11.000000           2.000000\n",
              "50%    10024.000000     49.000000           7.000000\n",
              "75%    11917.000000     49.000000          11.000000\n",
              "max    20117.000000     49.000000          50.000000"
            ]
          },
          "metadata": {
            "tags": []
          },
          "execution_count": 104
        }
      ]
    },
    {
      "cell_type": "code",
      "metadata": {
        "id": "mzr9LOsHOrOG"
      },
      "source": [
        "# df_train_set.drop(['ride_id'], axis=1, inplace=True) #ride_id is unnecessary in training set\n"
      ],
      "execution_count": 106,
      "outputs": []
    },
    {
      "cell_type": "code",
      "metadata": {
        "id": "MLyYcdn3OwnZ"
      },
      "source": [
        "df_processed[\"travel_date\"] = pd.to_datetime(df_processed[\"travel_date\"],infer_datetime_format=True)\n",
        "df_processed['travel_month'] = df_processed.travel_date.dt.month\n",
        "df_processed['travel_dayof_year'] = df_processed.travel_date.dt.dayofyear\n",
        "df_processed[\"travel_date\"] = df_processed[\"travel_date\"].dt.dayofweek \n",
        "#remember change the full date to day of week\n",
        "#add travel season eg rainny,dry etc, school going season"
      ],
      "execution_count": 108,
      "outputs": []
    },
    {
      "cell_type": "code",
      "metadata": {
        "id": "1_LLJi9rPHIj"
      },
      "source": [
        "df_processed[\"car_type\"] = pd.Categorical(df_processed[\"car_type\"])\n",
        "car_type_categories = df_processed.car_type.cat.categories\n",
        "df_processed[\"car_type\"] = df_processed.car_type.cat.codes"
      ],
      "execution_count": 109,
      "outputs": []
    },
    {
      "cell_type": "code",
      "metadata": {
        "id": "DQvCPy2VPahA"
      },
      "source": [
        "df_processed[\"travel_from\"] = pd.Categorical(df_processed[\"travel_from\"])\n",
        "travel_from_categories = df_processed.travel_from.cat.categories\n",
        "df_processed[\"travel_from\"] = df_processed.travel_from.cat.codes"
      ],
      "execution_count": 110,
      "outputs": []
    },
    {
      "cell_type": "code",
      "metadata": {
        "id": "juxT-m5OPtex"
      },
      "source": [
        "#express travel time in minutes\n",
        "df_processed[\"travel_time\"] = df_processed[\"travel_time\"].str.split(':').apply(lambda x: int(x[0]) * 60 + int(x[1]))"
      ],
      "execution_count": 111,
      "outputs": []
    },
    {
      "cell_type": "code",
      "metadata": {
        "colab": {
          "base_uri": "https://localhost:8080/",
          "height": 348
        },
        "id": "iV9vu55-P2qB",
        "outputId": "7a013a33-8288-403f-b22d-7ac6a734d5ae"
      },
      "source": [
        "df_processed.corr()"
      ],
      "execution_count": 112,
      "outputs": [
        {
          "output_type": "execute_result",
          "data": {
            "text/html": [
              "<div>\n",
              "<style scoped>\n",
              "    .dataframe tbody tr th:only-of-type {\n",
              "        vertical-align: middle;\n",
              "    }\n",
              "\n",
              "    .dataframe tbody tr th {\n",
              "        vertical-align: top;\n",
              "    }\n",
              "\n",
              "    .dataframe thead th {\n",
              "        text-align: right;\n",
              "    }\n",
              "</style>\n",
              "<table border=\"1\" class=\"dataframe\">\n",
              "  <thead>\n",
              "    <tr style=\"text-align: right;\">\n",
              "      <th></th>\n",
              "      <th>ride_id</th>\n",
              "      <th>travel_date</th>\n",
              "      <th>travel_time</th>\n",
              "      <th>travel_from</th>\n",
              "      <th>car_type</th>\n",
              "      <th>max_capacity</th>\n",
              "      <th>number_of_tickets</th>\n",
              "      <th>travel_month</th>\n",
              "      <th>travel_dayof_year</th>\n",
              "    </tr>\n",
              "  </thead>\n",
              "  <tbody>\n",
              "    <tr>\n",
              "      <th>ride_id</th>\n",
              "      <td>1.000000</td>\n",
              "      <td>0.016338</td>\n",
              "      <td>0.103864</td>\n",
              "      <td>0.065618</td>\n",
              "      <td>-0.257885</td>\n",
              "      <td>0.257885</td>\n",
              "      <td>0.093817</td>\n",
              "      <td>0.029872</td>\n",
              "      <td>0.033685</td>\n",
              "    </tr>\n",
              "    <tr>\n",
              "      <th>travel_date</th>\n",
              "      <td>0.016338</td>\n",
              "      <td>1.000000</td>\n",
              "      <td>0.022232</td>\n",
              "      <td>0.007310</td>\n",
              "      <td>-0.030175</td>\n",
              "      <td>0.030175</td>\n",
              "      <td>0.001035</td>\n",
              "      <td>0.031918</td>\n",
              "      <td>0.028249</td>\n",
              "    </tr>\n",
              "    <tr>\n",
              "      <th>travel_time</th>\n",
              "      <td>0.103864</td>\n",
              "      <td>0.022232</td>\n",
              "      <td>1.000000</td>\n",
              "      <td>0.145781</td>\n",
              "      <td>-0.019499</td>\n",
              "      <td>0.019499</td>\n",
              "      <td>0.205832</td>\n",
              "      <td>0.041282</td>\n",
              "      <td>0.040311</td>\n",
              "    </tr>\n",
              "    <tr>\n",
              "      <th>travel_from</th>\n",
              "      <td>0.065618</td>\n",
              "      <td>0.007310</td>\n",
              "      <td>0.145781</td>\n",
              "      <td>1.000000</td>\n",
              "      <td>-0.203815</td>\n",
              "      <td>0.203815</td>\n",
              "      <td>-0.027875</td>\n",
              "      <td>-0.024963</td>\n",
              "      <td>-0.025947</td>\n",
              "    </tr>\n",
              "    <tr>\n",
              "      <th>car_type</th>\n",
              "      <td>-0.257885</td>\n",
              "      <td>-0.030175</td>\n",
              "      <td>-0.019499</td>\n",
              "      <td>-0.203815</td>\n",
              "      <td>1.000000</td>\n",
              "      <td>-1.000000</td>\n",
              "      <td>-0.208762</td>\n",
              "      <td>0.085932</td>\n",
              "      <td>0.086896</td>\n",
              "    </tr>\n",
              "    <tr>\n",
              "      <th>max_capacity</th>\n",
              "      <td>0.257885</td>\n",
              "      <td>0.030175</td>\n",
              "      <td>0.019499</td>\n",
              "      <td>0.203815</td>\n",
              "      <td>-1.000000</td>\n",
              "      <td>1.000000</td>\n",
              "      <td>0.208762</td>\n",
              "      <td>-0.085932</td>\n",
              "      <td>-0.086896</td>\n",
              "    </tr>\n",
              "    <tr>\n",
              "      <th>number_of_tickets</th>\n",
              "      <td>0.093817</td>\n",
              "      <td>0.001035</td>\n",
              "      <td>0.205832</td>\n",
              "      <td>-0.027875</td>\n",
              "      <td>-0.208762</td>\n",
              "      <td>0.208762</td>\n",
              "      <td>1.000000</td>\n",
              "      <td>0.030389</td>\n",
              "      <td>0.028571</td>\n",
              "    </tr>\n",
              "    <tr>\n",
              "      <th>travel_month</th>\n",
              "      <td>0.029872</td>\n",
              "      <td>0.031918</td>\n",
              "      <td>0.041282</td>\n",
              "      <td>-0.024963</td>\n",
              "      <td>0.085932</td>\n",
              "      <td>-0.085932</td>\n",
              "      <td>0.030389</td>\n",
              "      <td>1.000000</td>\n",
              "      <td>0.997150</td>\n",
              "    </tr>\n",
              "    <tr>\n",
              "      <th>travel_dayof_year</th>\n",
              "      <td>0.033685</td>\n",
              "      <td>0.028249</td>\n",
              "      <td>0.040311</td>\n",
              "      <td>-0.025947</td>\n",
              "      <td>0.086896</td>\n",
              "      <td>-0.086896</td>\n",
              "      <td>0.028571</td>\n",
              "      <td>0.997150</td>\n",
              "      <td>1.000000</td>\n",
              "    </tr>\n",
              "  </tbody>\n",
              "</table>\n",
              "</div>"
            ],
            "text/plain": [
              "                    ride_id  travel_date  ...  travel_month  travel_dayof_year\n",
              "ride_id            1.000000     0.016338  ...      0.029872           0.033685\n",
              "travel_date        0.016338     1.000000  ...      0.031918           0.028249\n",
              "travel_time        0.103864     0.022232  ...      0.041282           0.040311\n",
              "travel_from        0.065618     0.007310  ...     -0.024963          -0.025947\n",
              "car_type          -0.257885    -0.030175  ...      0.085932           0.086896\n",
              "max_capacity       0.257885     0.030175  ...     -0.085932          -0.086896\n",
              "number_of_tickets  0.093817     0.001035  ...      0.030389           0.028571\n",
              "travel_month       0.029872     0.031918  ...      1.000000           0.997150\n",
              "travel_dayof_year  0.033685     0.028249  ...      0.997150           1.000000\n",
              "\n",
              "[9 rows x 9 columns]"
            ]
          },
          "metadata": {
            "tags": []
          },
          "execution_count": 112
        }
      ]
    },
    {
      "cell_type": "code",
      "metadata": {
        "id": "AOjQC-uZIvJx"
      },
      "source": [
        "X = df_processed.drop([\"number_of_tickets\"], axis=1)\n",
        "y = df_processed.number_of_tickets"
      ],
      "execution_count": 113,
      "outputs": []
    },
    {
      "cell_type": "code",
      "metadata": {
        "id": "ruReI4wIQJ0i"
      },
      "source": [
        "import numpy as np\n",
        "from sklearn.model_selection import train_test_split\n",
        "\n",
        "X_train, X_test, y_train, y_test = train_test_split(X, y, test_size=0.2, random_state=42)\n"
      ],
      "execution_count": 114,
      "outputs": []
    },
    {
      "cell_type": "code",
      "metadata": {
        "id": "DtlLdlnyJDGT"
      },
      "source": [
        "model = RandomForestRegressor()"
      ],
      "execution_count": 115,
      "outputs": []
    },
    {
      "cell_type": "code",
      "metadata": {
        "colab": {
          "base_uri": "https://localhost:8080/"
        },
        "id": "-XHlyyO9JGmM",
        "outputId": "9df0461b-a742-4700-ccb6-11693bfd4ae4"
      },
      "source": [
        "model.fit(X_train, y_train)"
      ],
      "execution_count": 116,
      "outputs": [
        {
          "output_type": "execute_result",
          "data": {
            "text/plain": [
              "RandomForestRegressor(bootstrap=True, ccp_alpha=0.0, criterion='mse',\n",
              "                      max_depth=None, max_features='auto', max_leaf_nodes=None,\n",
              "                      max_samples=None, min_impurity_decrease=0.0,\n",
              "                      min_impurity_split=None, min_samples_leaf=1,\n",
              "                      min_samples_split=2, min_weight_fraction_leaf=0.0,\n",
              "                      n_estimators=100, n_jobs=None, oob_score=False,\n",
              "                      random_state=None, verbose=0, warm_start=False)"
            ]
          },
          "metadata": {
            "tags": []
          },
          "execution_count": 116
        }
      ]
    },
    {
      "cell_type": "code",
      "metadata": {
        "id": "n72gxU6eJJ9H"
      },
      "source": [
        "preds_train_set = model.predict(X_test)"
      ],
      "execution_count": 118,
      "outputs": []
    },
    {
      "cell_type": "code",
      "metadata": {
        "id": "Rq40P-3cJUsB"
      },
      "source": [
        "preds_test_set = model.predict(X_test)"
      ],
      "execution_count": 83,
      "outputs": []
    },
    {
      "cell_type": "code",
      "metadata": {
        "colab": {
          "base_uri": "https://localhost:8080/"
        },
        "id": "TovH7aSXRAxC",
        "outputId": "fb2c792e-613f-43f2-ab08-f767c3d6f155"
      },
      "source": [
        "accuracy = model.score(X_train,y_train)\n",
        "accuracy_test = model.score(X_test,y_test)\n",
        "\n",
        "print(f'The accuracy of the train dataset is : {accuracy}')\n",
        "print(f'The accuracy of the test dataset is : {accuracy_test}')"
      ],
      "execution_count": 121,
      "outputs": [
        {
          "output_type": "stream",
          "text": [
            "The accuracy of the train dataset is : 0.9523530109690526\n",
            "The accuracy of the test dataset is : 0.6787940297350479\n"
          ],
          "name": "stdout"
        }
      ]
    },
    {
      "cell_type": "code",
      "metadata": {
        "id": "ldjFgh_kKUCl"
      },
      "source": [
        ""
      ],
      "execution_count": null,
      "outputs": []
    }
  ]
}